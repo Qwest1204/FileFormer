{
 "cells": [
  {
   "cell_type": "code",
   "id": "initial_id",
   "metadata": {
    "collapsed": true,
    "ExecuteTime": {
     "end_time": "2025-10-20T14:55:47.586175Z",
     "start_time": "2025-10-20T14:55:45.565270Z"
    }
   },
   "source": [
    "from torch.xpu import device\n",
    "\n",
    "from notus import utils, ByteLevelTokenizer, eval, CompressionEngine, FileFormer\n",
    "import torch\n"
   ],
   "outputs": [],
   "execution_count": 1
  },
  {
   "metadata": {
    "ExecuteTime": {
     "end_time": "2025-10-20T14:55:47.661811Z",
     "start_time": "2025-10-20T14:55:47.658771Z"
    }
   },
   "cell_type": "code",
   "source": [
    "\n",
    "\n",
    "#tokenizer\n",
    "tokenizer = ByteLevelTokenizer()\n",
    "\n",
    "#configs\n",
    "configs = utils.load_config(\"../config/config.yml\")"
   ],
   "id": "c7d20cad0008064",
   "outputs": [],
   "execution_count": 2
  },
  {
   "metadata": {
    "ExecuteTime": {
     "end_time": "2025-10-20T14:55:47.671385Z",
     "start_time": "2025-10-20T14:55:47.669564Z"
    }
   },
   "cell_type": "code",
   "source": [
    "\n",
    "\n",
    "#loss\n",
    "loss_fn = torch.nn.CrossEntropyLoss(ignore_index=1)"
   ],
   "id": "a4ce3c40117ada71",
   "outputs": [],
   "execution_count": 3
  },
  {
   "metadata": {
    "ExecuteTime": {
     "end_time": "2025-10-20T14:55:47.838624Z",
     "start_time": "2025-10-20T14:55:47.676383Z"
    }
   },
   "cell_type": "code",
   "source": "former = FileFormer(config=configs, loss_fn=loss_fn)",
   "id": "e0b5afea72920c38",
   "outputs": [],
   "execution_count": 4
  },
  {
   "metadata": {
    "ExecuteTime": {
     "end_time": "2025-10-20T14:46:03.065779Z",
     "start_time": "2025-10-20T14:46:02.264031Z"
    }
   },
   "cell_type": "code",
   "source": "#fileformer = FileFormer.load_from_checkpoint(\"/Users/daniilogorodnikov/model-epoch=00-step=20000.ckpt\", loss_fn=loss_fn, config=configs, device=\"cpu\")",
   "id": "6cf6f612a5ba0fa8",
   "outputs": [
    {
     "name": "stderr",
     "output_type": "stream",
     "text": [
      "/Users/daniilogorodnikov/anaconda3/envs/notus/lib/python3.12/site-packages/lightning/pytorch/utilities/migration/utils.py:56: The loaded checkpoint was produced with Lightning v2.5.5, which is newer than your current Lightning version: v2.5.0.post0\n"
     ]
    },
    {
     "ename": "RuntimeError",
     "evalue": "Error(s) in loading state_dict for FileFormer:\n\tMissing key(s) in state_dict: \"encoder.metadata_emb.weight\". ",
     "output_type": "error",
     "traceback": [
      "\u001B[0;31m---------------------------------------------------------------------------\u001B[0m",
      "\u001B[0;31mRuntimeError\u001B[0m                              Traceback (most recent call last)",
      "Cell \u001B[0;32mIn[4], line 1\u001B[0m\n\u001B[0;32m----> 1\u001B[0m fileformer \u001B[38;5;241m=\u001B[39m \u001B[43mFileFormer\u001B[49m\u001B[38;5;241;43m.\u001B[39;49m\u001B[43mload_from_checkpoint\u001B[49m\u001B[43m(\u001B[49m\u001B[38;5;124;43m\"\u001B[39;49m\u001B[38;5;124;43m/Users/daniilogorodnikov/model-epoch=00-step=20000.ckpt\u001B[39;49m\u001B[38;5;124;43m\"\u001B[39;49m\u001B[43m,\u001B[49m\u001B[43m \u001B[49m\u001B[43mloss_fn\u001B[49m\u001B[38;5;241;43m=\u001B[39;49m\u001B[43mloss_fn\u001B[49m\u001B[43m,\u001B[49m\u001B[43m \u001B[49m\u001B[43mconfig\u001B[49m\u001B[38;5;241;43m=\u001B[39;49m\u001B[43mconfigs\u001B[49m\u001B[43m,\u001B[49m\u001B[43m \u001B[49m\u001B[43mdevice\u001B[49m\u001B[38;5;241;43m=\u001B[39;49m\u001B[38;5;124;43m\"\u001B[39;49m\u001B[38;5;124;43mcpu\u001B[39;49m\u001B[38;5;124;43m\"\u001B[39;49m\u001B[43m)\u001B[49m\n",
      "File \u001B[0;32m~/anaconda3/envs/notus/lib/python3.12/site-packages/lightning/pytorch/utilities/model_helpers.py:125\u001B[0m, in \u001B[0;36m_restricted_classmethod_impl.__get__.<locals>.wrapper\u001B[0;34m(*args, **kwargs)\u001B[0m\n\u001B[1;32m    120\u001B[0m \u001B[38;5;28;01mif\u001B[39;00m instance \u001B[38;5;129;01mis\u001B[39;00m \u001B[38;5;129;01mnot\u001B[39;00m \u001B[38;5;28;01mNone\u001B[39;00m \u001B[38;5;129;01mand\u001B[39;00m \u001B[38;5;129;01mnot\u001B[39;00m is_scripting:\n\u001B[1;32m    121\u001B[0m     \u001B[38;5;28;01mraise\u001B[39;00m \u001B[38;5;167;01mTypeError\u001B[39;00m(\n\u001B[1;32m    122\u001B[0m         \u001B[38;5;124mf\u001B[39m\u001B[38;5;124m\"\u001B[39m\u001B[38;5;124mThe classmethod `\u001B[39m\u001B[38;5;132;01m{\u001B[39;00m\u001B[38;5;28mcls\u001B[39m\u001B[38;5;241m.\u001B[39m\u001B[38;5;18m__name__\u001B[39m\u001B[38;5;132;01m}\u001B[39;00m\u001B[38;5;124m.\u001B[39m\u001B[38;5;132;01m{\u001B[39;00m\u001B[38;5;28mself\u001B[39m\u001B[38;5;241m.\u001B[39mmethod\u001B[38;5;241m.\u001B[39m\u001B[38;5;18m__name__\u001B[39m\u001B[38;5;132;01m}\u001B[39;00m\u001B[38;5;124m` cannot be called on an instance.\u001B[39m\u001B[38;5;124m\"\u001B[39m\n\u001B[1;32m    123\u001B[0m         \u001B[38;5;124m\"\u001B[39m\u001B[38;5;124m Please call it on the class type and make sure the return value is used.\u001B[39m\u001B[38;5;124m\"\u001B[39m\n\u001B[1;32m    124\u001B[0m     )\n\u001B[0;32m--> 125\u001B[0m \u001B[38;5;28;01mreturn\u001B[39;00m \u001B[38;5;28;43mself\u001B[39;49m\u001B[38;5;241;43m.\u001B[39;49m\u001B[43mmethod\u001B[49m\u001B[43m(\u001B[49m\u001B[38;5;28;43mcls\u001B[39;49m\u001B[43m,\u001B[49m\u001B[43m \u001B[49m\u001B[38;5;241;43m*\u001B[39;49m\u001B[43margs\u001B[49m\u001B[43m,\u001B[49m\u001B[43m \u001B[49m\u001B[38;5;241;43m*\u001B[39;49m\u001B[38;5;241;43m*\u001B[39;49m\u001B[43mkwargs\u001B[49m\u001B[43m)\u001B[49m\n",
      "File \u001B[0;32m~/anaconda3/envs/notus/lib/python3.12/site-packages/lightning/pytorch/core/module.py:1581\u001B[0m, in \u001B[0;36mLightningModule.load_from_checkpoint\u001B[0;34m(cls, checkpoint_path, map_location, hparams_file, strict, **kwargs)\u001B[0m\n\u001B[1;32m   1492\u001B[0m \u001B[38;5;129m@_restricted_classmethod\u001B[39m\n\u001B[1;32m   1493\u001B[0m \u001B[38;5;28;01mdef\u001B[39;00m\u001B[38;5;250m \u001B[39m\u001B[38;5;21mload_from_checkpoint\u001B[39m(\n\u001B[1;32m   1494\u001B[0m     \u001B[38;5;28mcls\u001B[39m,\n\u001B[0;32m   (...)\u001B[0m\n\u001B[1;32m   1499\u001B[0m     \u001B[38;5;241m*\u001B[39m\u001B[38;5;241m*\u001B[39mkwargs: Any,\n\u001B[1;32m   1500\u001B[0m ) \u001B[38;5;241m-\u001B[39m\u001B[38;5;241m>\u001B[39m Self:\n\u001B[1;32m   1501\u001B[0m \u001B[38;5;250m    \u001B[39m\u001B[38;5;124mr\u001B[39m\u001B[38;5;124;03m\"\"\"Primary way of loading a model from a checkpoint. When Lightning saves a checkpoint it stores the arguments\u001B[39;00m\n\u001B[1;32m   1502\u001B[0m \u001B[38;5;124;03m    passed to ``__init__``  in the checkpoint under ``\"hyper_parameters\"``.\u001B[39;00m\n\u001B[1;32m   1503\u001B[0m \n\u001B[0;32m   (...)\u001B[0m\n\u001B[1;32m   1579\u001B[0m \n\u001B[1;32m   1580\u001B[0m \u001B[38;5;124;03m    \"\"\"\u001B[39;00m\n\u001B[0;32m-> 1581\u001B[0m     loaded \u001B[38;5;241m=\u001B[39m \u001B[43m_load_from_checkpoint\u001B[49m\u001B[43m(\u001B[49m\n\u001B[1;32m   1582\u001B[0m \u001B[43m        \u001B[49m\u001B[38;5;28;43mcls\u001B[39;49m\u001B[43m,\u001B[49m\n\u001B[1;32m   1583\u001B[0m \u001B[43m        \u001B[49m\u001B[43mcheckpoint_path\u001B[49m\u001B[43m,\u001B[49m\n\u001B[1;32m   1584\u001B[0m \u001B[43m        \u001B[49m\u001B[43mmap_location\u001B[49m\u001B[43m,\u001B[49m\n\u001B[1;32m   1585\u001B[0m \u001B[43m        \u001B[49m\u001B[43mhparams_file\u001B[49m\u001B[43m,\u001B[49m\n\u001B[1;32m   1586\u001B[0m \u001B[43m        \u001B[49m\u001B[43mstrict\u001B[49m\u001B[43m,\u001B[49m\n\u001B[1;32m   1587\u001B[0m \u001B[43m        \u001B[49m\u001B[38;5;241;43m*\u001B[39;49m\u001B[38;5;241;43m*\u001B[39;49m\u001B[43mkwargs\u001B[49m\u001B[43m,\u001B[49m\n\u001B[1;32m   1588\u001B[0m \u001B[43m    \u001B[49m\u001B[43m)\u001B[49m\n\u001B[1;32m   1589\u001B[0m     \u001B[38;5;28;01mreturn\u001B[39;00m cast(Self, loaded)\n",
      "File \u001B[0;32m~/anaconda3/envs/notus/lib/python3.12/site-packages/lightning/pytorch/core/saving.py:91\u001B[0m, in \u001B[0;36m_load_from_checkpoint\u001B[0;34m(cls, checkpoint_path, map_location, hparams_file, strict, **kwargs)\u001B[0m\n\u001B[1;32m     89\u001B[0m     \u001B[38;5;28;01mreturn\u001B[39;00m _load_state(\u001B[38;5;28mcls\u001B[39m, checkpoint, \u001B[38;5;241m*\u001B[39m\u001B[38;5;241m*\u001B[39mkwargs)\n\u001B[1;32m     90\u001B[0m \u001B[38;5;28;01mif\u001B[39;00m \u001B[38;5;28missubclass\u001B[39m(\u001B[38;5;28mcls\u001B[39m, pl\u001B[38;5;241m.\u001B[39mLightningModule):\n\u001B[0;32m---> 91\u001B[0m     model \u001B[38;5;241m=\u001B[39m \u001B[43m_load_state\u001B[49m\u001B[43m(\u001B[49m\u001B[38;5;28;43mcls\u001B[39;49m\u001B[43m,\u001B[49m\u001B[43m \u001B[49m\u001B[43mcheckpoint\u001B[49m\u001B[43m,\u001B[49m\u001B[43m \u001B[49m\u001B[43mstrict\u001B[49m\u001B[38;5;241;43m=\u001B[39;49m\u001B[43mstrict\u001B[49m\u001B[43m,\u001B[49m\u001B[43m \u001B[49m\u001B[38;5;241;43m*\u001B[39;49m\u001B[38;5;241;43m*\u001B[39;49m\u001B[43mkwargs\u001B[49m\u001B[43m)\u001B[49m\n\u001B[1;32m     92\u001B[0m     state_dict \u001B[38;5;241m=\u001B[39m checkpoint[\u001B[38;5;124m\"\u001B[39m\u001B[38;5;124mstate_dict\u001B[39m\u001B[38;5;124m\"\u001B[39m]\n\u001B[1;32m     93\u001B[0m     \u001B[38;5;28;01mif\u001B[39;00m \u001B[38;5;129;01mnot\u001B[39;00m state_dict:\n",
      "File \u001B[0;32m~/anaconda3/envs/notus/lib/python3.12/site-packages/lightning/pytorch/core/saving.py:187\u001B[0m, in \u001B[0;36m_load_state\u001B[0;34m(cls, checkpoint, strict, **cls_kwargs_new)\u001B[0m\n\u001B[1;32m    184\u001B[0m     obj\u001B[38;5;241m.\u001B[39mon_load_checkpoint(checkpoint)\n\u001B[1;32m    186\u001B[0m \u001B[38;5;66;03m# load the state_dict on the model automatically\u001B[39;00m\n\u001B[0;32m--> 187\u001B[0m keys \u001B[38;5;241m=\u001B[39m \u001B[43mobj\u001B[49m\u001B[38;5;241;43m.\u001B[39;49m\u001B[43mload_state_dict\u001B[49m\u001B[43m(\u001B[49m\u001B[43mcheckpoint\u001B[49m\u001B[43m[\u001B[49m\u001B[38;5;124;43m\"\u001B[39;49m\u001B[38;5;124;43mstate_dict\u001B[39;49m\u001B[38;5;124;43m\"\u001B[39;49m\u001B[43m]\u001B[49m\u001B[43m,\u001B[49m\u001B[43m \u001B[49m\u001B[43mstrict\u001B[49m\u001B[38;5;241;43m=\u001B[39;49m\u001B[43mstrict\u001B[49m\u001B[43m)\u001B[49m\n\u001B[1;32m    189\u001B[0m \u001B[38;5;28;01mif\u001B[39;00m \u001B[38;5;129;01mnot\u001B[39;00m strict:\n\u001B[1;32m    190\u001B[0m     \u001B[38;5;28;01mif\u001B[39;00m keys\u001B[38;5;241m.\u001B[39mmissing_keys:\n",
      "File \u001B[0;32m~/.local/lib/python3.12/site-packages/torch/nn/modules/module.py:2624\u001B[0m, in \u001B[0;36mModule.load_state_dict\u001B[0;34m(self, state_dict, strict, assign)\u001B[0m\n\u001B[1;32m   2616\u001B[0m         error_msgs\u001B[38;5;241m.\u001B[39minsert(\n\u001B[1;32m   2617\u001B[0m             \u001B[38;5;241m0\u001B[39m,\n\u001B[1;32m   2618\u001B[0m             \u001B[38;5;124m\"\u001B[39m\u001B[38;5;124mMissing key(s) in state_dict: \u001B[39m\u001B[38;5;132;01m{}\u001B[39;00m\u001B[38;5;124m. \u001B[39m\u001B[38;5;124m\"\u001B[39m\u001B[38;5;241m.\u001B[39mformat(\n\u001B[1;32m   2619\u001B[0m                 \u001B[38;5;124m\"\u001B[39m\u001B[38;5;124m, \u001B[39m\u001B[38;5;124m\"\u001B[39m\u001B[38;5;241m.\u001B[39mjoin(\u001B[38;5;124mf\u001B[39m\u001B[38;5;124m'\u001B[39m\u001B[38;5;124m\"\u001B[39m\u001B[38;5;132;01m{\u001B[39;00mk\u001B[38;5;132;01m}\u001B[39;00m\u001B[38;5;124m\"\u001B[39m\u001B[38;5;124m'\u001B[39m \u001B[38;5;28;01mfor\u001B[39;00m k \u001B[38;5;129;01min\u001B[39;00m missing_keys)\n\u001B[1;32m   2620\u001B[0m             ),\n\u001B[1;32m   2621\u001B[0m         )\n\u001B[1;32m   2623\u001B[0m \u001B[38;5;28;01mif\u001B[39;00m \u001B[38;5;28mlen\u001B[39m(error_msgs) \u001B[38;5;241m>\u001B[39m \u001B[38;5;241m0\u001B[39m:\n\u001B[0;32m-> 2624\u001B[0m     \u001B[38;5;28;01mraise\u001B[39;00m \u001B[38;5;167;01mRuntimeError\u001B[39;00m(\n\u001B[1;32m   2625\u001B[0m         \u001B[38;5;124m\"\u001B[39m\u001B[38;5;124mError(s) in loading state_dict for \u001B[39m\u001B[38;5;132;01m{}\u001B[39;00m\u001B[38;5;124m:\u001B[39m\u001B[38;5;130;01m\\n\u001B[39;00m\u001B[38;5;130;01m\\t\u001B[39;00m\u001B[38;5;132;01m{}\u001B[39;00m\u001B[38;5;124m\"\u001B[39m\u001B[38;5;241m.\u001B[39mformat(\n\u001B[1;32m   2626\u001B[0m             \u001B[38;5;28mself\u001B[39m\u001B[38;5;241m.\u001B[39m\u001B[38;5;18m__class__\u001B[39m\u001B[38;5;241m.\u001B[39m\u001B[38;5;18m__name__\u001B[39m, \u001B[38;5;124m\"\u001B[39m\u001B[38;5;130;01m\\n\u001B[39;00m\u001B[38;5;130;01m\\t\u001B[39;00m\u001B[38;5;124m\"\u001B[39m\u001B[38;5;241m.\u001B[39mjoin(error_msgs)\n\u001B[1;32m   2627\u001B[0m         )\n\u001B[1;32m   2628\u001B[0m     )\n\u001B[1;32m   2629\u001B[0m \u001B[38;5;28;01mreturn\u001B[39;00m _IncompatibleKeys(missing_keys, unexpected_keys)\n",
      "\u001B[0;31mRuntimeError\u001B[0m: Error(s) in loading state_dict for FileFormer:\n\tMissing key(s) in state_dict: \"encoder.metadata_emb.weight\". "
     ]
    }
   ],
   "execution_count": 4
  },
  {
   "metadata": {
    "ExecuteTime": {
     "end_time": "2025-10-20T03:53:01.822765Z",
     "start_time": "2025-10-20T03:53:01.814922Z"
    }
   },
   "cell_type": "code",
   "source": "fileformer.to('cpu')",
   "id": "236c5fedc2478bba",
   "outputs": [
    {
     "data": {
      "text/plain": [
       "FileFormer(\n",
       "  (loss_fn): CrossEntropyLoss()\n",
       "  (encoder): Encoder(\n",
       "    (file_type_emb): Embedding(935, 768)\n",
       "    (hash_emb): Embedding(258, 768)\n",
       "    (pe): Embedding(65, 768)\n",
       "    (layers): ModuleList(\n",
       "      (0-3): 4 x EncoderBlock(\n",
       "        (attention): MultiHeadAttention(\n",
       "          (Q_layer): Linear(in_features=768, out_features=768, bias=True)\n",
       "          (K_layer): Linear(in_features=768, out_features=768, bias=True)\n",
       "          (V_layer): Linear(in_features=768, out_features=768, bias=True)\n",
       "          (fc_out): Linear(in_features=768, out_features=768, bias=True)\n",
       "        )\n",
       "        (mlp): MLP(\n",
       "          (activation): ReLU()\n",
       "          (mlp): Sequential(\n",
       "            (0): Linear(in_features=768, out_features=256, bias=True)\n",
       "            (1): ReLU()\n",
       "            (2): Linear(in_features=256, out_features=768, bias=True)\n",
       "            (3): Dropout(p=0.1, inplace=False)\n",
       "          )\n",
       "        )\n",
       "        (norm1): LayerNorm((768,), eps=1e-05, elementwise_affine=True)\n",
       "        (norm2): LayerNorm((768,), eps=1e-05, elementwise_affine=True)\n",
       "        (dropout): Dropout(p=0.1, inplace=False)\n",
       "      )\n",
       "    )\n",
       "    (dropout): Dropout(p=0.1, inplace=False)\n",
       "  )\n",
       "  (decoder): Decoder(\n",
       "    (chunk_emb): Embedding(258, 768)\n",
       "    (pe): RotaryPositionalEmbeddings()\n",
       "    (layers): ModuleList(\n",
       "      (0-5): 6 x DecoderLayer(\n",
       "        (self_attention): MultiHeadAttention(\n",
       "          (Q_layer): Linear(in_features=768, out_features=768, bias=True)\n",
       "          (K_layer): Linear(in_features=768, out_features=768, bias=True)\n",
       "          (V_layer): Linear(in_features=768, out_features=768, bias=True)\n",
       "          (fc_out): Linear(in_features=768, out_features=768, bias=True)\n",
       "        )\n",
       "        (cross_attention): MultiHeadAttention(\n",
       "          (Q_layer): Linear(in_features=768, out_features=768, bias=True)\n",
       "          (K_layer): Linear(in_features=768, out_features=768, bias=True)\n",
       "          (V_layer): Linear(in_features=768, out_features=768, bias=True)\n",
       "          (fc_out): Linear(in_features=768, out_features=768, bias=True)\n",
       "        )\n",
       "        (mlp): MLP(\n",
       "          (activation): ReLU()\n",
       "          (mlp): Sequential(\n",
       "            (0): Linear(in_features=768, out_features=512, bias=True)\n",
       "            (1): ReLU()\n",
       "            (2): Linear(in_features=512, out_features=768, bias=True)\n",
       "            (3): Dropout(p=0.1, inplace=False)\n",
       "          )\n",
       "        )\n",
       "        (norm1): LayerNorm((768,), eps=1e-05, elementwise_affine=True)\n",
       "        (norm2): LayerNorm((768,), eps=1e-05, elementwise_affine=True)\n",
       "        (norm3): LayerNorm((768,), eps=1e-05, elementwise_affine=True)\n",
       "        (dropout): Dropout(p=0.1, inplace=False)\n",
       "      )\n",
       "    )\n",
       "    (dropout): Dropout(p=0.1, inplace=False)\n",
       "    (final_linear): Linear(in_features=768, out_features=258, bias=True)\n",
       "  )\n",
       ")"
      ]
     },
     "execution_count": 5,
     "metadata": {},
     "output_type": "execute_result"
    }
   ],
   "execution_count": 5
  },
  {
   "metadata": {
    "ExecuteTime": {
     "end_time": "2025-10-20T14:55:50.165083Z",
     "start_time": "2025-10-20T14:55:50.161720Z"
    }
   },
   "cell_type": "code",
   "source": [
    "from pathlib import Path\n",
    "import hashlib\n",
    "from notus.tokenizer.utils import get_file_ext_as_token\n",
    "import mmap"
   ],
   "id": "cacef862951a43de",
   "outputs": [],
   "execution_count": 5
  },
  {
   "metadata": {
    "ExecuteTime": {
     "end_time": "2025-10-20T14:55:50.631610Z",
     "start_time": "2025-10-20T14:55:50.629068Z"
    }
   },
   "cell_type": "code",
   "source": "file_path = Path(\"/Users/daniilogorodnikov/Downloads/atomic_heart_17. PT-1X12-2.mp3\")",
   "id": "2634460ad8f660a7",
   "outputs": [],
   "execution_count": 6
  },
  {
   "metadata": {
    "ExecuteTime": {
     "end_time": "2025-10-20T14:55:51.184487Z",
     "start_time": "2025-10-20T14:55:51.180610Z"
    }
   },
   "cell_type": "code",
   "source": [
    "sha256_hash = hashlib.sha256()\n",
    "with open(file_path, 'rb') as f:\n",
    "    f.seek(500)\n",
    "    chunk = f.read(5096)\n",
    "    print(hashlib.sha256(chunk).hexdigest())"
   ],
   "id": "762e7698576e004e",
   "outputs": [
    {
     "name": "stdout",
     "output_type": "stream",
     "text": [
      "769a08894088969d9f73933a38fb261ca9ba5bd52bbf82523a96252ba1e896e4\n"
     ]
    }
   ],
   "execution_count": 7
  },
  {
   "metadata": {
    "ExecuteTime": {
     "end_time": "2025-10-20T14:55:51.515855Z",
     "start_time": "2025-10-20T14:55:51.512785Z"
    }
   },
   "cell_type": "code",
   "source": "eng = CompressionEngine({\"rule\":121, \"chunk_size\":5096}, former, device=\"mps\")",
   "id": "35c8ca9ba54ed25a",
   "outputs": [],
   "execution_count": 8
  },
  {
   "metadata": {
    "ExecuteTime": {
     "end_time": "2025-10-20T14:55:51.891495Z",
     "start_time": "2025-10-20T14:55:51.887101Z"
    }
   },
   "cell_type": "code",
   "source": "out = eng.compress(chunk)",
   "id": "40a10b8f22bbbc78",
   "outputs": [],
   "execution_count": 9
  },
  {
   "metadata": {
    "ExecuteTime": {
     "end_time": "2025-10-20T14:55:52.254339Z",
     "start_time": "2025-10-20T14:55:52.250642Z"
    }
   },
   "cell_type": "code",
   "source": "len(chunk)",
   "id": "794d94f975baee87",
   "outputs": [
    {
     "data": {
      "text/plain": [
       "5096"
      ]
     },
     "execution_count": 10,
     "metadata": {},
     "output_type": "execute_result"
    }
   ],
   "execution_count": 10
  },
  {
   "metadata": {
    "ExecuteTime": {
     "end_time": "2025-10-20T14:55:52.603875Z",
     "start_time": "2025-10-20T14:55:52.601127Z"
    }
   },
   "cell_type": "code",
   "source": "len(out['data'])",
   "id": "eb37a35db8f4df1d",
   "outputs": [
    {
     "data": {
      "text/plain": [
       "3398"
      ]
     },
     "execution_count": 11,
     "metadata": {},
     "output_type": "execute_result"
    }
   ],
   "execution_count": 11
  },
  {
   "metadata": {
    "ExecuteTime": {
     "end_time": "2025-10-20T14:55:55.003452Z",
     "start_time": "2025-10-20T14:55:53.139199Z"
    }
   },
   "cell_type": "code",
   "source": "ttt = eng.decompress(\"e983b3dab739d02999a9d4089820e29dfd1030f640e8f5ce5c8ebffcd9719bc7\", out['data'], [113])",
   "id": "167f029cf97f6669",
   "outputs": [],
   "execution_count": 12
  },
  {
   "metadata": {
    "ExecuteTime": {
     "end_time": "2025-10-20T03:53:14.204434Z",
     "start_time": "2025-10-20T03:53:14.200057Z"
    }
   },
   "cell_type": "code",
   "source": "ttt.shape",
   "id": "19576237cc112c92",
   "outputs": [
    {
     "data": {
      "text/plain": [
       "torch.Size([1, 4096, 258])"
      ]
     },
     "execution_count": 12,
     "metadata": {},
     "output_type": "execute_result"
    }
   ],
   "execution_count": 12
  },
  {
   "metadata": {
    "ExecuteTime": {
     "end_time": "2025-10-20T03:53:15.775778Z",
     "start_time": "2025-10-20T03:53:15.770832Z"
    }
   },
   "cell_type": "code",
   "source": "fff = torch.argmax(ttt, dim=2)",
   "id": "e451fcf7f61c18dc",
   "outputs": [],
   "execution_count": 13
  },
  {
   "metadata": {
    "ExecuteTime": {
     "end_time": "2025-10-20T03:53:20.288466Z",
     "start_time": "2025-10-20T03:53:20.283496Z"
    }
   },
   "cell_type": "code",
   "source": "hex_out = tokenizer.decode(fff.tolist()[0])",
   "id": "e62f01a2ab57fe",
   "outputs": [],
   "execution_count": 14
  },
  {
   "metadata": {
    "ExecuteTime": {
     "end_time": "2025-10-20T03:53:21.003402Z",
     "start_time": "2025-10-20T03:53:21.000043Z"
    }
   },
   "cell_type": "code",
   "source": "hex_out",
   "id": "f4fc52cf6570caa5",
   "outputs": [
    {
     "data": {
      "text/plain": [
       "'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'"
      ]
     },
     "execution_count": 15,
     "metadata": {},
     "output_type": "execute_result"
    }
   ],
   "execution_count": 15
  },
  {
   "metadata": {
    "ExecuteTime": {
     "end_time": "2025-10-18T22:50:55.151942Z",
     "start_time": "2025-10-18T22:50:55.146833Z"
    }
   },
   "cell_type": "code",
   "source": "out['data']",
   "id": "fca418b67c45c4b6",
   "outputs": [
    {
     "data": {
      "text/plain": [
       "'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'"
      ]
     },
     "execution_count": 89,
     "metadata": {},
     "output_type": "execute_result"
    }
   ],
   "execution_count": 89
  },
  {
   "metadata": {
    "ExecuteTime": {
     "end_time": "2025-10-18T22:50:55.240583Z",
     "start_time": "2025-10-18T22:50:55.202383Z"
    }
   },
   "cell_type": "code",
   "source": [
    "def string_similarity(a: str, b: str) -> float:\n",
    "    # Преобразуем строки в множества символов\n",
    "    set_a = set(a)\n",
    "    set_b = set(b)\n",
    "\n",
    "    # Находим пересечение символов\n",
    "    common = set_a.intersection(set_b)\n",
    "\n",
    "    # Вычисляем процент совпадения\n",
    "    # Берем максимальную длину множества символов для нормализации\n",
    "    total_chars = max(len(set_a), len(set_b))\n",
    "\n",
    "    if total_chars == 0:  # Обработка случая пустых строк\n",
    "        return 0.0\n",
    "\n",
    "    similarity = (len(common) / total_chars) * 100\n",
    "    return round(similarity, 2)"
   ],
   "id": "ce0162af63435c14",
   "outputs": [],
   "execution_count": 90
  },
  {
   "metadata": {
    "ExecuteTime": {
     "end_time": "2025-10-18T22:51:01.647981Z",
     "start_time": "2025-10-18T22:51:01.644957Z"
    }
   },
   "cell_type": "code",
   "source": "string_similarity(chunk.hex(), hex_out)",
   "id": "78f0585f0bbe388a",
   "outputs": [
    {
     "data": {
      "text/plain": [
       "87.5"
      ]
     },
     "execution_count": 92,
     "metadata": {},
     "output_type": "execute_result"
    }
   ],
   "execution_count": 92
  },
  {
   "metadata": {
    "ExecuteTime": {
     "end_time": "2025-10-18T22:51:07.300301Z",
     "start_time": "2025-10-18T22:51:07.297952Z"
    }
   },
   "cell_type": "code",
   "source": "tmp = bytearray.fromhex(hex_out)",
   "id": "daed525a2fd8753d",
   "outputs": [],
   "execution_count": 93
  },
  {
   "metadata": {
    "ExecuteTime": {
     "end_time": "2025-10-18T22:51:07.759445Z",
     "start_time": "2025-10-18T22:51:07.674737Z"
    }
   },
   "cell_type": "code",
   "source": [
    "with open(\"../notus/engine/tmp.txt\", \"wb\") as binary_file:\n",
    "\n",
    "    binary_file.write(tmp)"
   ],
   "id": "2d665c255e359718",
   "outputs": [],
   "execution_count": 94
  },
  {
   "metadata": {
    "ExecuteTime": {
     "end_time": "2025-10-18T22:43:50.821644Z",
     "start_time": "2025-10-18T22:43:50.807083Z"
    }
   },
   "cell_type": "code",
   "source": [
    "def create_lorem_ipsum_file(target_size=4096, output_file=\"lorem_ipsum.txt\"):\n",
    "    # Стандартный текст Lorem Ipsum\n",
    "    lorem = (\n",
    "        \"Lorem ipsum dolor sit amet, consectetur adipiscing elit, sed do eiusmod tempor \"\n",
    "        \"incididunt ut labore et dolore magna aliqua. Ut enim ad minim veniam, quis nostrud \"\n",
    "        \"exercitation ullamco laboris nisi ut aliquip ex ea commodo consequat. Duis aute irure \"\n",
    "        \"dolor in reprehenderit in voluptate velit esse cillum dolore eu fugiat nulla pariatur. \"\n",
    "        \"Excepteur sint occaecat cupidatat non proident, sunt in culpa qui officia deserunt \"\n",
    "        \"mollit anim id est laborum. \"\n",
    "    )\n",
    "\n",
    "    # Повторяем текст, чтобы превысить целевой размер\n",
    "    full_text = lorem * (target_size // len(lorem) + 1)\n",
    "    # Обрезаем до точного размера\n",
    "    final_text = full_text[:target_size]\n",
    "\n",
    "    # Записываем в файл\n",
    "    with open(output_file, \"w\", encoding=\"utf-8\") as f:\n",
    "        f.write(final_text)\n",
    "\n",
    "    # Проверяем размер файла\n",
    "    file_size = len(final_text.encode(\"utf-8\"))\n",
    "    print(f\"Создан файл {output_file} размером {file_size} байт\")\n",
    "\n",
    "if __name__ == \"__main__\":\n",
    "    create_lorem_ipsum_file()"
   ],
   "id": "472bc04dcda61996",
   "outputs": [
    {
     "name": "stdout",
     "output_type": "stream",
     "text": [
      "Создан файл lorem_ipsum.txt размером 4096 байт\n"
     ]
    }
   ],
   "execution_count": 52
  },
  {
   "metadata": {
    "ExecuteTime": {
     "end_time": "2025-10-19T15:51:06.349864Z",
     "start_time": "2025-10-19T15:51:06.337325Z"
    }
   },
   "cell_type": "code",
   "source": "eval.eva",
   "id": "90199f8bc54bd23e",
   "outputs": [
    {
     "ename": "TypeError",
     "evalue": "eval expected at least 1 argument, got 0",
     "output_type": "error",
     "traceback": [
      "\u001B[0;31m---------------------------------------------------------------------------\u001B[0m",
      "\u001B[0;31mTypeError\u001B[0m                                 Traceback (most recent call last)",
      "Cell \u001B[0;32mIn[4], line 1\u001B[0m\n\u001B[0;32m----> 1\u001B[0m \u001B[38;5;28;43meval\u001B[39;49m\u001B[43m(\u001B[49m\u001B[43m)\u001B[49m\n",
      "\u001B[0;31mTypeError\u001B[0m: eval expected at least 1 argument, got 0"
     ]
    }
   ],
   "execution_count": 4
  },
  {
   "metadata": {},
   "cell_type": "code",
   "outputs": [],
   "execution_count": null,
   "source": "",
   "id": "d3b368b93821cd1b"
  }
 ],
 "metadata": {
  "kernelspec": {
   "display_name": "Python 3",
   "language": "python",
   "name": "python3"
  },
  "language_info": {
   "codemirror_mode": {
    "name": "ipython",
    "version": 2
   },
   "file_extension": ".py",
   "mimetype": "text/x-python",
   "name": "python",
   "nbconvert_exporter": "python",
   "pygments_lexer": "ipython2",
   "version": "2.7.6"
  }
 },
 "nbformat": 4,
 "nbformat_minor": 5
}
