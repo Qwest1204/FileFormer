{
 "cells": [
  {
   "cell_type": "code",
   "id": "initial_id",
   "metadata": {
    "collapsed": true,
    "ExecuteTime": {
     "end_time": "2025-10-08T13:19:01.553759Z",
     "start_time": "2025-10-08T13:19:01.550921Z"
    }
   },
   "source": [
    "import torch\n",
    "import random\n",
    "from notus import FileDataset, ByteLevelTokenizer\n",
    "from torch.utils.data import DataLoader\n",
    "import torch.nn.functional as F\n",
    "from pathlib import Path\n",
    "from tqdm import tqdm\n",
    "from hashlib import sha256"
   ],
   "outputs": [],
   "execution_count": 22
  },
  {
   "metadata": {
    "ExecuteTime": {
     "end_time": "2025-10-08T13:19:01.920511Z",
     "start_time": "2025-10-08T13:19:01.907618Z"
    }
   },
   "cell_type": "code",
   "source": [
    "dataset = FileDataset(\"/Users/daniilogorodnikov/dataset/test\", 128, 1)\n",
    "tokenizer = ByteLevelTokenizer()"
   ],
   "id": "d278e50b4980e19e",
   "outputs": [],
   "execution_count": 23
  },
  {
   "metadata": {
    "ExecuteTime": {
     "end_time": "2025-10-08T13:19:02.277401Z",
     "start_time": "2025-10-08T13:19:02.272974Z"
    }
   },
   "cell_type": "code",
   "source": "dataset.table_init_data",
   "id": "133fd6dc72386080",
   "outputs": [
    {
     "data": {
      "text/plain": [
       "  id                                          file_name start_byte end_byte\n",
       "0  0  /Users/daniilogorodnikov/dataset/test/Avalonia...          0      651\n",
       "1  1  /Users/daniilogorodnikov/dataset/test/Avalonia...        652      683\n",
       "2  2  /Users/daniilogorodnikov/dataset/test/AtkSharp...        684     3079\n",
       "3  3  /Users/daniilogorodnikov/dataset/test/00000000...       3080     3950\n",
       "4  4  /Users/daniilogorodnikov/dataset/test/00000006...       3951     6015\n",
       "5  5  /Users/daniilogorodnikov/dataset/test/Avalonia...       6016    14219\n",
       "6  6  /Users/daniilogorodnikov/dataset/test/00000005...      14220    16224\n",
       "7  7  /Users/daniilogorodnikov/dataset/test/00000006...      16225    17616\n",
       "8  8  /Users/daniilogorodnikov/dataset/test/00000006...      17617    18597"
      ],
      "text/html": [
       "<div>\n",
       "<style scoped>\n",
       "    .dataframe tbody tr th:only-of-type {\n",
       "        vertical-align: middle;\n",
       "    }\n",
       "\n",
       "    .dataframe tbody tr th {\n",
       "        vertical-align: top;\n",
       "    }\n",
       "\n",
       "    .dataframe thead th {\n",
       "        text-align: right;\n",
       "    }\n",
       "</style>\n",
       "<table border=\"1\" class=\"dataframe\">\n",
       "  <thead>\n",
       "    <tr style=\"text-align: right;\">\n",
       "      <th></th>\n",
       "      <th>id</th>\n",
       "      <th>file_name</th>\n",
       "      <th>start_byte</th>\n",
       "      <th>end_byte</th>\n",
       "    </tr>\n",
       "  </thead>\n",
       "  <tbody>\n",
       "    <tr>\n",
       "      <th>0</th>\n",
       "      <td>0</td>\n",
       "      <td>/Users/daniilogorodnikov/dataset/test/Avalonia...</td>\n",
       "      <td>0</td>\n",
       "      <td>651</td>\n",
       "    </tr>\n",
       "    <tr>\n",
       "      <th>1</th>\n",
       "      <td>1</td>\n",
       "      <td>/Users/daniilogorodnikov/dataset/test/Avalonia...</td>\n",
       "      <td>652</td>\n",
       "      <td>683</td>\n",
       "    </tr>\n",
       "    <tr>\n",
       "      <th>2</th>\n",
       "      <td>2</td>\n",
       "      <td>/Users/daniilogorodnikov/dataset/test/AtkSharp...</td>\n",
       "      <td>684</td>\n",
       "      <td>3079</td>\n",
       "    </tr>\n",
       "    <tr>\n",
       "      <th>3</th>\n",
       "      <td>3</td>\n",
       "      <td>/Users/daniilogorodnikov/dataset/test/00000000...</td>\n",
       "      <td>3080</td>\n",
       "      <td>3950</td>\n",
       "    </tr>\n",
       "    <tr>\n",
       "      <th>4</th>\n",
       "      <td>4</td>\n",
       "      <td>/Users/daniilogorodnikov/dataset/test/00000006...</td>\n",
       "      <td>3951</td>\n",
       "      <td>6015</td>\n",
       "    </tr>\n",
       "    <tr>\n",
       "      <th>5</th>\n",
       "      <td>5</td>\n",
       "      <td>/Users/daniilogorodnikov/dataset/test/Avalonia...</td>\n",
       "      <td>6016</td>\n",
       "      <td>14219</td>\n",
       "    </tr>\n",
       "    <tr>\n",
       "      <th>6</th>\n",
       "      <td>6</td>\n",
       "      <td>/Users/daniilogorodnikov/dataset/test/00000005...</td>\n",
       "      <td>14220</td>\n",
       "      <td>16224</td>\n",
       "    </tr>\n",
       "    <tr>\n",
       "      <th>7</th>\n",
       "      <td>7</td>\n",
       "      <td>/Users/daniilogorodnikov/dataset/test/00000006...</td>\n",
       "      <td>16225</td>\n",
       "      <td>17616</td>\n",
       "    </tr>\n",
       "    <tr>\n",
       "      <th>8</th>\n",
       "      <td>8</td>\n",
       "      <td>/Users/daniilogorodnikov/dataset/test/00000006...</td>\n",
       "      <td>17617</td>\n",
       "      <td>18597</td>\n",
       "    </tr>\n",
       "  </tbody>\n",
       "</table>\n",
       "</div>"
      ]
     },
     "execution_count": 24,
     "metadata": {},
     "output_type": "execute_result"
    }
   ],
   "execution_count": 24
  },
  {
   "metadata": {
    "ExecuteTime": {
     "end_time": "2025-10-08T13:19:03.737864Z",
     "start_time": "2025-10-08T13:19:03.734082Z"
    }
   },
   "cell_type": "code",
   "source": [
    "dataloader = DataLoader(dataset, batch_size=2,\n",
    "                        shuffle=True, num_workers=0\n",
    "                        )"
   ],
   "id": "cfba41c10a10df36",
   "outputs": [],
   "execution_count": 25
  },
  {
   "metadata": {
    "ExecuteTime": {
     "end_time": "2025-10-08T13:19:28.064907Z",
     "start_time": "2025-10-08T13:19:28.059208Z"
    }
   },
   "cell_type": "code",
   "source": "tokens, masked_tokens, pads, hash, extention_tokenize = next(iter(dataloader))",
   "id": "7a0b8f3b78f0f08c",
   "outputs": [],
   "execution_count": 38
  },
  {
   "metadata": {
    "ExecuteTime": {
     "end_time": "2025-10-08T13:19:28.565666Z",
     "start_time": "2025-10-08T13:19:28.562979Z"
    }
   },
   "cell_type": "code",
   "source": "tokenizer.decode(masked_tokens[0].tolist())",
   "id": "9c5221b3cc99e8c7",
   "outputs": [
    {
     "data": {
      "text/plain": [
       "'00046a58284500000a06d0d2000002283f00000a284600000aa5d20000020b12017f660000047bdd0300047ddd03000412017f660000047bde0300047dde03000412017f660000047bdf0300047ddf03000412017f660000047be00300047de003000412017f660000047be10300047de103000412017f660000047be2030004'"
      ]
     },
     "execution_count": 40,
     "metadata": {},
     "output_type": "execute_result"
    }
   ],
   "execution_count": 40
  },
  {
   "metadata": {},
   "cell_type": "code",
   "source": "tokenizer.decode(tokens.tolist())",
   "id": "ddb14ae53e8579b4",
   "outputs": [],
   "execution_count": null
  },
  {
   "metadata": {},
   "cell_type": "code",
   "source": [
    "for i, d in enumerate(loader):\n",
    "    if i % 200 == 0:\n",
    "        print(i)"
   ],
   "id": "b4ac8ea9a3614387",
   "outputs": [],
   "execution_count": null
  },
  {
   "metadata": {},
   "cell_type": "code",
   "source": " x[4]",
   "id": "99c8144d51013a92",
   "outputs": [],
   "execution_count": null
  },
  {
   "metadata": {},
   "cell_type": "code",
   "source": [
    "def get_file_name_by_byte(df, byte_value):\n",
    "    \"\"\"\n",
    "    Возвращает имя файла из датафрейма, если byte_value попадает в диапазон [start_byte, end_byte].\n",
    "\n",
    "    Параметры:\n",
    "    df -- pandas DataFrame с колонками file_name, start_byte, end_byte\n",
    "    byte_value -- значение для проверки (целое число)\n",
    "\n",
    "    Возвращает:\n",
    "    str -- имя файла, если byte_value в диапазоне, иначе None\n",
    "    \"\"\"\n",
    "    for index, row in df.iterrows():\n",
    "        if row['start_byte'] <= byte_value <= row['end_byte']:\n",
    "            return row['file_name'], row['start_byte'], row['end_byte']\n",
    "    return None"
   ],
   "id": "51ed3799da851301",
   "outputs": [],
   "execution_count": null
  },
  {
   "metadata": {},
   "cell_type": "code",
   "source": "x = get_file_name_by_byte(dataset.table_init_data, 453)",
   "id": "104a3163d05658bd",
   "outputs": [],
   "execution_count": null
  },
  {
   "metadata": {},
   "cell_type": "code",
   "source": "x[1]",
   "id": "c0a35990447d08d7",
   "outputs": [],
   "execution_count": null
  },
  {
   "metadata": {},
   "cell_type": "code",
   "source": "",
   "id": "88c8d0ccb3fbf32d",
   "outputs": [],
   "execution_count": null
  },
  {
   "metadata": {},
   "cell_type": "code",
   "source": "from notus import ByteLevelTokenizer",
   "id": "8b012e771da5a1ab",
   "outputs": [],
   "execution_count": null
  },
  {
   "metadata": {},
   "cell_type": "code",
   "source": "tokenizer = ByteLevelTokenizer()",
   "id": "1a12329aeaebb96e",
   "outputs": [],
   "execution_count": null
  },
  {
   "metadata": {},
   "cell_type": "code",
   "source": "all_tokens = []",
   "id": "447af88ee7a9c023",
   "outputs": [],
   "execution_count": null
  },
  {
   "metadata": {},
   "cell_type": "code",
   "source": "from random import randint",
   "id": "14efb57c90aaef45",
   "outputs": [],
   "execution_count": null
  },
  {
   "metadata": {},
   "cell_type": "code",
   "source": [
    "def get_data(file, batch_size, seq_len):\n",
    "    part_of_file = randint(0, (file.stat().st_size)//seq_len)\n",
    "    out_tokens = []\n",
    "    with open(file, 'rb') as f:\n",
    "        f.seek(part_of_file)\n",
    "        for _ in range(batch_size):\n",
    "            byte_chunk = f.read(seq_len)\n",
    "            hex_chunk = byte_chunk.hex()\n",
    "            tokens = tokenizer.encode(hex_chunk)\n",
    "            if len(tokens) < 512:\n",
    "                tokens.extend([0]*(512 - len(tokens)))\n",
    "            out_tokens.append(tokens)\n",
    "    f.close()\n",
    "    return out_tokens\n"
   ],
   "id": "1041987b3f4684b4",
   "outputs": [],
   "execution_count": null
  },
  {
   "metadata": {},
   "cell_type": "code",
   "source": "data = get_data(files[3], 3, 512)",
   "id": "7e0e9e4202c7aaae",
   "outputs": [],
   "execution_count": null
  },
  {
   "metadata": {},
   "cell_type": "code",
   "source": "tokenizer.decode(data[0])",
   "id": "75f85916259f081a",
   "outputs": [],
   "execution_count": null
  },
  {
   "metadata": {},
   "cell_type": "code",
   "source": "tokenizer.decode(data[1])",
   "id": "729156c1b59a8294",
   "outputs": [],
   "execution_count": null
  },
  {
   "metadata": {},
   "cell_type": "code",
   "source": [
    "with open(files[3], 'rb') as f:\n",
    "\n",
    "        byte_chunk = f.read(512)\n",
    "        if not byte_chunk:\n",
    "            break\n",
    "        hex_chunk = byte_chunk.hex()\n",
    "        tokens = tokenizer.encode(hex_chunk)\n",
    "        if len(tokens) < 512:\n",
    "            tokens.extend([0]*(512 - len(tokens)))\n",
    "        all_tokens.append(tokens)"
   ],
   "id": "cbe96654b7aa3c45",
   "outputs": [],
   "execution_count": null
  },
  {
   "metadata": {},
   "cell_type": "code",
   "source": "len(all_tokens)",
   "id": "b362ab5ffaa5d7c3",
   "outputs": [],
   "execution_count": null
  },
  {
   "metadata": {},
   "cell_type": "code",
   "source": "len(all_tokens[217])",
   "id": "77ae7fa2621e9d8c",
   "outputs": [],
   "execution_count": null
  },
  {
   "metadata": {},
   "cell_type": "code",
   "source": "all_tokens[217]",
   "id": "423a8b7d74f95b95",
   "outputs": [],
   "execution_count": null
  },
  {
   "metadata": {},
   "cell_type": "code",
   "source": "tokenizer.decode(all_tokens[217])",
   "id": "ac75ffa3b5b6c6fb",
   "outputs": [],
   "execution_count": null
  },
  {
   "metadata": {},
   "cell_type": "code",
   "source": "111441//512",
   "id": "33cf774fc38382c3",
   "outputs": [],
   "execution_count": null
  },
  {
   "metadata": {},
   "cell_type": "code",
   "source": "tokenizer.vocab_size",
   "id": "ac56ba6cac3e7983",
   "outputs": [],
   "execution_count": null
  },
  {
   "metadata": {},
   "cell_type": "code",
   "source": "",
   "id": "6da1e58018942ea8",
   "outputs": [],
   "execution_count": null
  }
 ],
 "metadata": {
  "kernelspec": {
   "display_name": "Python 3",
   "language": "python",
   "name": "python3"
  },
  "language_info": {
   "codemirror_mode": {
    "name": "ipython",
    "version": 2
   },
   "file_extension": ".py",
   "mimetype": "text/x-python",
   "name": "python",
   "nbconvert_exporter": "python",
   "pygments_lexer": "ipython2",
   "version": "2.7.6"
  }
 },
 "nbformat": 4,
 "nbformat_minor": 5
}
