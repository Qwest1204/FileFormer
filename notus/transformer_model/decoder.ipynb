{
 "cells": [
  {
   "cell_type": "code",
   "id": "initial_id",
   "metadata": {
    "collapsed": true,
    "ExecuteTime": {
     "end_time": "2025-08-30T15:05:46.305583Z",
     "start_time": "2025-08-30T15:05:45.707234Z"
    }
   },
   "source": "from notus import utils, Decoder, Encoder",
   "outputs": [],
   "execution_count": 1
  },
  {
   "metadata": {
    "ExecuteTime": {
     "end_time": "2025-08-30T15:05:46.604528Z",
     "start_time": "2025-08-30T15:05:46.309575Z"
    }
   },
   "cell_type": "code",
   "source": [
    "import torch\n",
    "from flax import nnx\n",
    "from torchinfo import summary"
   ],
   "id": "aa6a39fc285155dc",
   "outputs": [],
   "execution_count": 2
  },
  {
   "metadata": {
    "ExecuteTime": {
     "end_time": "2025-08-30T15:05:46.612493Z",
     "start_time": "2025-08-30T15:05:46.609044Z"
    }
   },
   "cell_type": "code",
   "source": "conf = utils.load_config(\"../../config/config.yml\")",
   "id": "a9f7c054ea210516",
   "outputs": [],
   "execution_count": 3
  },
  {
   "metadata": {
    "ExecuteTime": {
     "end_time": "2025-08-30T15:05:46.667438Z",
     "start_time": "2025-08-30T15:05:46.615696Z"
    }
   },
   "cell_type": "code",
   "source": [
    "decoder = Decoder(**conf[\"decoder\"])\n",
    "encoder = Encoder(**conf[\"encoder\"])"
   ],
   "id": "7c9562f4f8c19c09",
   "outputs": [],
   "execution_count": 4
  },
  {
   "metadata": {
    "ExecuteTime": {
     "end_time": "2025-08-30T15:05:46.673560Z",
     "start_time": "2025-08-30T15:05:46.671204Z"
    }
   },
   "cell_type": "code",
   "source": [
    "#data for encoder\n",
    "x_enc = torch.randint(0, 764, (1, 512), dtype=torch.long, device=\"cpu\")\n",
    "types = torch.randint(0, 213, (1, 1), dtype=torch.long, device=\"cpu\")\n",
    "#data for decoder\n",
    "x_dec = torch.randint(0, 764, (1, 2048), dtype=torch.long, device=\"cpu\")"
   ],
   "id": "a9720ea1a82a293b",
   "outputs": [],
   "execution_count": 5
  },
  {
   "metadata": {
    "ExecuteTime": {
     "end_time": "2025-08-30T15:05:46.719095Z",
     "start_time": "2025-08-30T15:05:46.678344Z"
    }
   },
   "cell_type": "code",
   "source": "enc_out = encoder.forward(x_enc, types)",
   "id": "94d61f51877bdb0f",
   "outputs": [],
   "execution_count": 6
  },
  {
   "metadata": {
    "ExecuteTime": {
     "end_time": "2025-08-30T15:05:46.728491Z",
     "start_time": "2025-08-30T15:05:46.725437Z"
    }
   },
   "cell_type": "code",
   "source": "enc_out.shape",
   "id": "661e534bca0ed2c4",
   "outputs": [
    {
     "data": {
      "text/plain": [
       "torch.Size([1, 513, 256])"
      ]
     },
     "execution_count": 7,
     "metadata": {},
     "output_type": "execute_result"
    }
   ],
   "execution_count": 7
  },
  {
   "metadata": {
    "ExecuteTime": {
     "end_time": "2025-08-30T15:05:46.741640Z",
     "start_time": "2025-08-30T15:05:46.739635Z"
    }
   },
   "cell_type": "code",
   "source": "x_dec.shape",
   "id": "6d48a2d91f084faa",
   "outputs": [
    {
     "data": {
      "text/plain": [
       "torch.Size([1, 2048])"
      ]
     },
     "execution_count": 8,
     "metadata": {},
     "output_type": "execute_result"
    }
   ],
   "execution_count": 8
  },
  {
   "metadata": {
    "ExecuteTime": {
     "end_time": "2025-08-30T15:05:48.567511Z",
     "start_time": "2025-08-30T15:05:46.747689Z"
    }
   },
   "cell_type": "code",
   "source": "dec_out = decoder.forward(x_dec, enc_out)",
   "id": "c323f30f9d1ed257",
   "outputs": [],
   "execution_count": 9
  },
  {
   "metadata": {
    "ExecuteTime": {
     "end_time": "2025-08-30T15:05:48.579270Z",
     "start_time": "2025-08-30T15:05:48.575628Z"
    }
   },
   "cell_type": "code",
   "source": "dec_out.shape",
   "id": "27df5bea7af5554b",
   "outputs": [
    {
     "data": {
      "text/plain": [
       "torch.Size([1, 2048, 256])"
      ]
     },
     "execution_count": 10,
     "metadata": {},
     "output_type": "execute_result"
    }
   ],
   "execution_count": 10
  },
  {
   "metadata": {
    "ExecuteTime": {
     "end_time": "2025-08-30T15:05:49.560724Z",
     "start_time": "2025-08-30T15:05:48.586341Z"
    }
   },
   "cell_type": "code",
   "source": "summary(decoder, input_data=(x_dec, enc_out))",
   "id": "3ced48c63ea060b1",
   "outputs": [
    {
     "data": {
      "text/plain": [
       "===============================================================================================\n",
       "Layer (type:depth-idx)                        Output Shape              Param #\n",
       "===============================================================================================\n",
       "Decoder                                       [1, 2048, 256]            --\n",
       "├─Embedding: 1-1                              [1, 2048, 256]            195,584\n",
       "├─Embedding: 1-2                              [1, 2048, 256]            524,288\n",
       "├─Dropout: 1-3                                [1, 2048, 256]            --\n",
       "├─ModuleList: 1-4                             --                        --\n",
       "│    └─DecoderLayer: 2-1                      [1, 2048, 256]            --\n",
       "│    │    └─MultiQueryAttention: 3-1          [1, 2048, 256]            148,032\n",
       "│    │    └─Dropout: 3-2                      [1, 2048, 256]            --\n",
       "│    │    └─LayerNorm: 3-3                    [1, 2048, 256]            512\n",
       "│    │    └─MultiQueryAttention: 3-4          [1, 2048, 256]            148,032\n",
       "│    │    └─Dropout: 3-5                      [1, 2048, 256]            --\n",
       "│    │    └─LayerNorm: 3-6                    [1, 2048, 256]            512\n",
       "│    │    └─MLP: 3-7                          [1, 2048, 256]            262,912\n",
       "│    │    └─Dropout: 3-8                      [1, 2048, 256]            --\n",
       "│    │    └─LayerNorm: 3-9                    [1, 2048, 256]            512\n",
       "│    └─DecoderLayer: 2-2                      [1, 2048, 256]            --\n",
       "│    │    └─MultiQueryAttention: 3-10         [1, 2048, 256]            148,032\n",
       "│    │    └─Dropout: 3-11                     [1, 2048, 256]            --\n",
       "│    │    └─LayerNorm: 3-12                   [1, 2048, 256]            512\n",
       "│    │    └─MultiQueryAttention: 3-13         [1, 2048, 256]            148,032\n",
       "│    │    └─Dropout: 3-14                     [1, 2048, 256]            --\n",
       "│    │    └─LayerNorm: 3-15                   [1, 2048, 256]            512\n",
       "│    │    └─MLP: 3-16                         [1, 2048, 256]            262,912\n",
       "│    │    └─Dropout: 3-17                     [1, 2048, 256]            --\n",
       "│    │    └─LayerNorm: 3-18                   [1, 2048, 256]            512\n",
       "│    └─DecoderLayer: 2-3                      [1, 2048, 256]            --\n",
       "│    │    └─MultiQueryAttention: 3-19         [1, 2048, 256]            148,032\n",
       "│    │    └─Dropout: 3-20                     [1, 2048, 256]            --\n",
       "│    │    └─LayerNorm: 3-21                   [1, 2048, 256]            512\n",
       "│    │    └─MultiQueryAttention: 3-22         [1, 2048, 256]            148,032\n",
       "│    │    └─Dropout: 3-23                     [1, 2048, 256]            --\n",
       "│    │    └─LayerNorm: 3-24                   [1, 2048, 256]            512\n",
       "│    │    └─MLP: 3-25                         [1, 2048, 256]            262,912\n",
       "│    │    └─Dropout: 3-26                     [1, 2048, 256]            --\n",
       "│    │    └─LayerNorm: 3-27                   [1, 2048, 256]            512\n",
       "│    └─DecoderLayer: 2-4                      [1, 2048, 256]            --\n",
       "│    │    └─MultiQueryAttention: 3-28         [1, 2048, 256]            148,032\n",
       "│    │    └─Dropout: 3-29                     [1, 2048, 256]            --\n",
       "│    │    └─LayerNorm: 3-30                   [1, 2048, 256]            512\n",
       "│    │    └─MultiQueryAttention: 3-31         [1, 2048, 256]            148,032\n",
       "│    │    └─Dropout: 3-32                     [1, 2048, 256]            --\n",
       "│    │    └─LayerNorm: 3-33                   [1, 2048, 256]            512\n",
       "│    │    └─MLP: 3-34                         [1, 2048, 256]            262,912\n",
       "│    │    └─Dropout: 3-35                     [1, 2048, 256]            --\n",
       "│    │    └─LayerNorm: 3-36                   [1, 2048, 256]            512\n",
       "│    └─DecoderLayer: 2-5                      [1, 2048, 256]            --\n",
       "│    │    └─MultiQueryAttention: 3-37         [1, 2048, 256]            148,032\n",
       "│    │    └─Dropout: 3-38                     [1, 2048, 256]            --\n",
       "│    │    └─LayerNorm: 3-39                   [1, 2048, 256]            512\n",
       "│    │    └─MultiQueryAttention: 3-40         [1, 2048, 256]            148,032\n",
       "│    │    └─Dropout: 3-41                     [1, 2048, 256]            --\n",
       "│    │    └─LayerNorm: 3-42                   [1, 2048, 256]            512\n",
       "│    │    └─MLP: 3-43                         [1, 2048, 256]            262,912\n",
       "│    │    └─Dropout: 3-44                     [1, 2048, 256]            --\n",
       "│    │    └─LayerNorm: 3-45                   [1, 2048, 256]            512\n",
       "│    └─DecoderLayer: 2-6                      [1, 2048, 256]            --\n",
       "│    │    └─MultiQueryAttention: 3-46         [1, 2048, 256]            148,032\n",
       "│    │    └─Dropout: 3-47                     [1, 2048, 256]            --\n",
       "│    │    └─LayerNorm: 3-48                   [1, 2048, 256]            512\n",
       "│    │    └─MultiQueryAttention: 3-49         [1, 2048, 256]            148,032\n",
       "│    │    └─Dropout: 3-50                     [1, 2048, 256]            --\n",
       "│    │    └─LayerNorm: 3-51                   [1, 2048, 256]            512\n",
       "│    │    └─MLP: 3-52                         [1, 2048, 256]            262,912\n",
       "│    │    └─Dropout: 3-53                     [1, 2048, 256]            --\n",
       "│    │    └─LayerNorm: 3-54                   [1, 2048, 256]            512\n",
       "│    └─DecoderLayer: 2-7                      [1, 2048, 256]            --\n",
       "│    │    └─MultiQueryAttention: 3-55         [1, 2048, 256]            148,032\n",
       "│    │    └─Dropout: 3-56                     [1, 2048, 256]            --\n",
       "│    │    └─LayerNorm: 3-57                   [1, 2048, 256]            512\n",
       "│    │    └─MultiQueryAttention: 3-58         [1, 2048, 256]            148,032\n",
       "│    │    └─Dropout: 3-59                     [1, 2048, 256]            --\n",
       "│    │    └─LayerNorm: 3-60                   [1, 2048, 256]            512\n",
       "│    │    └─MLP: 3-61                         [1, 2048, 256]            262,912\n",
       "│    │    └─Dropout: 3-62                     [1, 2048, 256]            --\n",
       "│    │    └─LayerNorm: 3-63                   [1, 2048, 256]            512\n",
       "│    └─DecoderLayer: 2-8                      [1, 2048, 256]            --\n",
       "│    │    └─MultiQueryAttention: 3-64         [1, 2048, 256]            148,032\n",
       "│    │    └─Dropout: 3-65                     [1, 2048, 256]            --\n",
       "│    │    └─LayerNorm: 3-66                   [1, 2048, 256]            512\n",
       "│    │    └─MultiQueryAttention: 3-67         [1, 2048, 256]            148,032\n",
       "│    │    └─Dropout: 3-68                     [1, 2048, 256]            --\n",
       "│    │    └─LayerNorm: 3-69                   [1, 2048, 256]            512\n",
       "│    │    └─MLP: 3-70                         [1, 2048, 256]            262,912\n",
       "│    │    └─Dropout: 3-71                     [1, 2048, 256]            --\n",
       "│    │    └─LayerNorm: 3-72                   [1, 2048, 256]            512\n",
       "│    └─DecoderLayer: 2-9                      [1, 2048, 256]            --\n",
       "│    │    └─MultiQueryAttention: 3-73         [1, 2048, 256]            148,032\n",
       "│    │    └─Dropout: 3-74                     [1, 2048, 256]            --\n",
       "│    │    └─LayerNorm: 3-75                   [1, 2048, 256]            512\n",
       "│    │    └─MultiQueryAttention: 3-76         [1, 2048, 256]            148,032\n",
       "│    │    └─Dropout: 3-77                     [1, 2048, 256]            --\n",
       "│    │    └─LayerNorm: 3-78                   [1, 2048, 256]            512\n",
       "│    │    └─MLP: 3-79                         [1, 2048, 256]            262,912\n",
       "│    │    └─Dropout: 3-80                     [1, 2048, 256]            --\n",
       "│    │    └─LayerNorm: 3-81                   [1, 2048, 256]            512\n",
       "│    └─DecoderLayer: 2-10                     [1, 2048, 256]            --\n",
       "│    │    └─MultiQueryAttention: 3-82         [1, 2048, 256]            148,032\n",
       "│    │    └─Dropout: 3-83                     [1, 2048, 256]            --\n",
       "│    │    └─LayerNorm: 3-84                   [1, 2048, 256]            512\n",
       "│    │    └─MultiQueryAttention: 3-85         [1, 2048, 256]            148,032\n",
       "│    │    └─Dropout: 3-86                     [1, 2048, 256]            --\n",
       "│    │    └─LayerNorm: 3-87                   [1, 2048, 256]            512\n",
       "│    │    └─MLP: 3-88                         [1, 2048, 256]            262,912\n",
       "│    │    └─Dropout: 3-89                     [1, 2048, 256]            --\n",
       "│    │    └─LayerNorm: 3-90                   [1, 2048, 256]            512\n",
       "│    └─DecoderLayer: 2-11                     [1, 2048, 256]            --\n",
       "│    │    └─MultiQueryAttention: 3-91         [1, 2048, 256]            148,032\n",
       "│    │    └─Dropout: 3-92                     [1, 2048, 256]            --\n",
       "│    │    └─LayerNorm: 3-93                   [1, 2048, 256]            512\n",
       "│    │    └─MultiQueryAttention: 3-94         [1, 2048, 256]            148,032\n",
       "│    │    └─Dropout: 3-95                     [1, 2048, 256]            --\n",
       "│    │    └─LayerNorm: 3-96                   [1, 2048, 256]            512\n",
       "│    │    └─MLP: 3-97                         [1, 2048, 256]            262,912\n",
       "│    │    └─Dropout: 3-98                     [1, 2048, 256]            --\n",
       "│    │    └─LayerNorm: 3-99                   [1, 2048, 256]            512\n",
       "│    └─DecoderLayer: 2-12                     [1, 2048, 256]            --\n",
       "│    │    └─MultiQueryAttention: 3-100        [1, 2048, 256]            148,032\n",
       "│    │    └─Dropout: 3-101                    [1, 2048, 256]            --\n",
       "│    │    └─LayerNorm: 3-102                  [1, 2048, 256]            512\n",
       "│    │    └─MultiQueryAttention: 3-103        [1, 2048, 256]            148,032\n",
       "│    │    └─Dropout: 3-104                    [1, 2048, 256]            --\n",
       "│    │    └─LayerNorm: 3-105                  [1, 2048, 256]            512\n",
       "│    │    └─MLP: 3-106                        [1, 2048, 256]            262,912\n",
       "│    │    └─Dropout: 3-107                    [1, 2048, 256]            --\n",
       "│    │    └─LayerNorm: 3-108                  [1, 2048, 256]            512\n",
       "│    └─DecoderLayer: 2-13                     [1, 2048, 256]            --\n",
       "│    │    └─MultiQueryAttention: 3-109        [1, 2048, 256]            148,032\n",
       "│    │    └─Dropout: 3-110                    [1, 2048, 256]            --\n",
       "│    │    └─LayerNorm: 3-111                  [1, 2048, 256]            512\n",
       "│    │    └─MultiQueryAttention: 3-112        [1, 2048, 256]            148,032\n",
       "│    │    └─Dropout: 3-113                    [1, 2048, 256]            --\n",
       "│    │    └─LayerNorm: 3-114                  [1, 2048, 256]            512\n",
       "│    │    └─MLP: 3-115                        [1, 2048, 256]            262,912\n",
       "│    │    └─Dropout: 3-116                    [1, 2048, 256]            --\n",
       "│    │    └─LayerNorm: 3-117                  [1, 2048, 256]            512\n",
       "│    └─DecoderLayer: 2-14                     [1, 2048, 256]            --\n",
       "│    │    └─MultiQueryAttention: 3-118        [1, 2048, 256]            148,032\n",
       "│    │    └─Dropout: 3-119                    [1, 2048, 256]            --\n",
       "│    │    └─LayerNorm: 3-120                  [1, 2048, 256]            512\n",
       "│    │    └─MultiQueryAttention: 3-121        [1, 2048, 256]            148,032\n",
       "│    │    └─Dropout: 3-122                    [1, 2048, 256]            --\n",
       "│    │    └─LayerNorm: 3-123                  [1, 2048, 256]            512\n",
       "│    │    └─MLP: 3-124                        [1, 2048, 256]            262,912\n",
       "│    │    └─Dropout: 3-125                    [1, 2048, 256]            --\n",
       "│    │    └─LayerNorm: 3-126                  [1, 2048, 256]            512\n",
       "│    └─DecoderLayer: 2-15                     [1, 2048, 256]            --\n",
       "│    │    └─MultiQueryAttention: 3-127        [1, 2048, 256]            148,032\n",
       "│    │    └─Dropout: 3-128                    [1, 2048, 256]            --\n",
       "│    │    └─LayerNorm: 3-129                  [1, 2048, 256]            512\n",
       "│    │    └─MultiQueryAttention: 3-130        [1, 2048, 256]            148,032\n",
       "│    │    └─Dropout: 3-131                    [1, 2048, 256]            --\n",
       "│    │    └─LayerNorm: 3-132                  [1, 2048, 256]            512\n",
       "│    │    └─MLP: 3-133                        [1, 2048, 256]            262,912\n",
       "│    │    └─Dropout: 3-134                    [1, 2048, 256]            --\n",
       "│    │    └─LayerNorm: 3-135                  [1, 2048, 256]            512\n",
       "│    └─DecoderLayer: 2-16                     [1, 2048, 256]            --\n",
       "│    │    └─MultiQueryAttention: 3-136        [1, 2048, 256]            148,032\n",
       "│    │    └─Dropout: 3-137                    [1, 2048, 256]            --\n",
       "│    │    └─LayerNorm: 3-138                  [1, 2048, 256]            512\n",
       "│    │    └─MultiQueryAttention: 3-139        [1, 2048, 256]            148,032\n",
       "│    │    └─Dropout: 3-140                    [1, 2048, 256]            --\n",
       "│    │    └─LayerNorm: 3-141                  [1, 2048, 256]            512\n",
       "│    │    └─MLP: 3-142                        [1, 2048, 256]            262,912\n",
       "│    │    └─Dropout: 3-143                    [1, 2048, 256]            --\n",
       "│    │    └─LayerNorm: 3-144                  [1, 2048, 256]            512\n",
       "===============================================================================================\n",
       "Total params: 9,688,064\n",
       "Trainable params: 9,688,064\n",
       "Non-trainable params: 0\n",
       "Total mult-adds (Units.MEGABYTES): 9.69\n",
       "===============================================================================================\n",
       "Input size (MB): 0.54\n",
       "Forward/backward pass size (MB): 700.46\n",
       "Params size (MB): 38.75\n",
       "Estimated Total Size (MB): 739.75\n",
       "==============================================================================================="
      ]
     },
     "execution_count": 11,
     "metadata": {},
     "output_type": "execute_result"
    }
   ],
   "execution_count": 11
  },
  {
   "metadata": {
    "ExecuteTime": {
     "end_time": "2025-08-30T15:05:49.580063Z",
     "start_time": "2025-08-30T15:05:49.578661Z"
    }
   },
   "cell_type": "code",
   "source": "",
   "id": "33d4741f55444be9",
   "outputs": [],
   "execution_count": null
  }
 ],
 "metadata": {
  "kernelspec": {
   "display_name": "Python 3",
   "language": "python",
   "name": "python3"
  },
  "language_info": {
   "codemirror_mode": {
    "name": "ipython",
    "version": 2
   },
   "file_extension": ".py",
   "mimetype": "text/x-python",
   "name": "python",
   "nbconvert_exporter": "python",
   "pygments_lexer": "ipython2",
   "version": "2.7.6"
  }
 },
 "nbformat": 4,
 "nbformat_minor": 5
}
