{
 "cells": [
  {
   "cell_type": "code",
   "id": "initial_id",
   "metadata": {
    "collapsed": true,
    "ExecuteTime": {
     "end_time": "2025-06-29T11:54:31.644862Z",
     "start_time": "2025-06-29T11:54:30.782609Z"
    }
   },
   "source": [
    "from torchinfo import summary\n",
    "\n",
    "from notus import FileDataset, Tokenizer, build_transformer, AttentionVisualizer\n",
    "from torch.utils.data import DataLoader"
   ],
   "outputs": [],
   "execution_count": 1
  },
  {
   "metadata": {
    "ExecuteTime": {
     "end_time": "2025-06-29T11:46:47.215106Z",
     "start_time": "2025-06-29T11:46:47.213520Z"
    }
   },
   "cell_type": "code",
   "source": "tokenizer = Tokenizer()",
   "id": "60b5f91424b1895c",
   "outputs": [],
   "execution_count": 2
  },
  {
   "metadata": {
    "ExecuteTime": {
     "end_time": "2025-06-29T11:46:47.936216Z",
     "start_time": "2025-06-29T11:46:47.919725Z"
    }
   },
   "cell_type": "code",
   "source": "tokenizer.load_vocab_and_merges('../notus/tokenizer/vocab.json', '../notus/tokenizer/merges.txt')",
   "id": "170bf9036ca4490b",
   "outputs": [],
   "execution_count": 3
  },
  {
   "metadata": {
    "ExecuteTime": {
     "end_time": "2025-06-29T11:46:55.043183Z",
     "start_time": "2025-06-29T11:46:48.202333Z"
    }
   },
   "cell_type": "code",
   "source": "dataset = FileDataset(\"/Users/daniilogorodnikov/dataset/test/\", 2048, tokenizer)",
   "id": "479757dcbd4622e",
   "outputs": [
    {
     "name": "stderr",
     "output_type": "stream",
     "text": [
      "100%|██████████| 9/9 [00:06<00:00,  1.32it/s]\n"
     ]
    }
   ],
   "execution_count": 4
  },
  {
   "metadata": {
    "ExecuteTime": {
     "end_time": "2025-06-29T11:46:55.052768Z",
     "start_time": "2025-06-29T11:46:55.050448Z"
    }
   },
   "cell_type": "code",
   "source": "dataloader = DataLoader(dataset, batch_size=2, shuffle=True, pin_memory=True)",
   "id": "7dc4fe18e34d115b",
   "outputs": [],
   "execution_count": 5
  },
  {
   "metadata": {
    "ExecuteTime": {
     "end_time": "2025-06-29T11:46:55.075723Z",
     "start_time": "2025-06-29T11:46:55.058477Z"
    }
   },
   "cell_type": "code",
   "source": "x =next(iter(dataloader))",
   "id": "69c8f52032f60c89",
   "outputs": [
    {
     "name": "stderr",
     "output_type": "stream",
     "text": [
      "/Users/daniilogorodnikov/PycharmProjects/Notus/.venv/lib/python3.13/site-packages/torch/utils/data/dataloader.py:683: UserWarning: 'pin_memory' argument is set as true but not supported on MPS now, then device pinned memory won't be used.\n",
      "  warnings.warn(warn_msg)\n"
     ]
    }
   ],
   "execution_count": 6
  },
  {
   "metadata": {
    "ExecuteTime": {
     "end_time": "2025-06-29T11:46:55.147417Z",
     "start_time": "2025-06-29T11:46:55.145983Z"
    }
   },
   "cell_type": "code",
   "source": "import torch",
   "id": "558fed676d58db4d",
   "outputs": [],
   "execution_count": 7
  },
  {
   "metadata": {
    "ExecuteTime": {
     "end_time": "2025-06-29T11:46:55.159023Z",
     "start_time": "2025-06-29T11:46:55.157606Z"
    }
   },
   "cell_type": "code",
   "source": "torch.set_printoptions(threshold=2050)",
   "id": "16815c0498d56c35",
   "outputs": [],
   "execution_count": 8
  },
  {
   "metadata": {
    "ExecuteTime": {
     "end_time": "2025-06-29T11:46:55.167984Z",
     "start_time": "2025-06-29T11:46:55.164811Z"
    }
   },
   "cell_type": "code",
   "source": "len(tokenizer.vocab)",
   "id": "1c666abb085012fd",
   "outputs": [
    {
     "data": {
      "text/plain": [
       "6542"
      ]
     },
     "execution_count": 9,
     "metadata": {},
     "output_type": "execute_result"
    }
   ],
   "execution_count": 9
  },
  {
   "metadata": {
    "ExecuteTime": {
     "end_time": "2025-06-29T11:46:55.238197Z",
     "start_time": "2025-06-29T11:46:55.236383Z"
    }
   },
   "cell_type": "code",
   "source": [
    "origin_ids = x['origin_ids']\n",
    "masked_ids = x['masked_ids']\n",
    "attention_mask_masked_ids = x['attention_mask_masked_ids']\n",
    "removed_elements = x['removed_elements']\n",
    "attention_mask_removed_elements = x['attention_mask_removed_elements']"
   ],
   "id": "d0f1db0c11844fff",
   "outputs": [],
   "execution_count": 10
  },
  {
   "metadata": {
    "ExecuteTime": {
     "end_time": "2025-06-29T11:46:57.181172Z",
     "start_time": "2025-06-29T11:46:56.490725Z"
    }
   },
   "cell_type": "code",
   "source": "chps = torch.load(\"weights/best_model_localattention_20250628_122901.pt\", weights_only=False, map_location=torch.device('cpu'))",
   "id": "86120be60fe0b1c5",
   "outputs": [],
   "execution_count": 11
  },
  {
   "metadata": {
    "ExecuteTime": {
     "end_time": "2025-06-29T11:52:05.018929Z",
     "start_time": "2025-06-29T11:52:04.515107Z"
    }
   },
   "cell_type": "code",
   "source": [
    "transformer_correction = build_transformer(vocab_size=6542,\n",
    "                                d_model=1024,\n",
    "                                max_seq_len=2048,\n",
    "                                d_ff=1024,\n",
    "                                dropout=0.1,\n",
    "                                n_layers=4,\n",
    "                                n_heads=4,\n",
    "                                factor=1,\n",
    "                                compress=False,\n",
    "                                winsize=64,\n",
    "                                return_attention=True,)\n",
    "\n",
    "correction_data = build_transformer(vocab_size=6542,\n",
    "                                d_model=32,\n",
    "                                max_seq_len=2048,\n",
    "                                d_ff=32,\n",
    "                                dropout=0.1,\n",
    "                                n_layers=4,\n",
    "                                n_heads=4,\n",
    "                                factor=128,\n",
    "                                compress=True,\n",
    "                                winsize=32,\n",
    "                                return_attention=True)"
   ],
   "id": "cf37fbf7026f4d59",
   "outputs": [
    {
     "name": "stdout",
     "output_type": "stream",
     "text": [
      "Зарегистрирован хук для: encoder.layers.0.self_attention_block\n",
      "Зарегистрирован хук для: encoder.layers.1.self_attention_block\n",
      "Зарегистрирован хук для: encoder.layers.2.self_attention_block\n",
      "Зарегистрирован хук для: encoder.layers.3.self_attention_block\n",
      "Зарегистрирован хук для: decoder.layers.0.self_attention_block\n",
      "Зарегистрирован хук для: decoder.layers.0.cross_attention_block\n",
      "Зарегистрирован хук для: decoder.layers.1.self_attention_block\n",
      "Зарегистрирован хук для: decoder.layers.1.cross_attention_block\n",
      "Зарегистрирован хук для: decoder.layers.2.self_attention_block\n",
      "Зарегистрирован хук для: decoder.layers.2.cross_attention_block\n",
      "Зарегистрирован хук для: decoder.layers.3.self_attention_block\n",
      "Зарегистрирован хук для: decoder.layers.3.cross_attention_block\n",
      "Зарегистрирован хук для: encoder.layers.0.self_attention_block\n",
      "Зарегистрирован хук для: encoder.layers.1.self_attention_block\n",
      "Зарегистрирован хук для: encoder.layers.2.self_attention_block\n",
      "Зарегистрирован хук для: encoder.layers.3.self_attention_block\n",
      "Зарегистрирован хук для: decoder.layers.0.self_attention_block\n",
      "Зарегистрирован хук для: decoder.layers.0.cross_attention_block\n",
      "Зарегистрирован хук для: decoder.layers.1.self_attention_block\n",
      "Зарегистрирован хук для: decoder.layers.1.cross_attention_block\n",
      "Зарегистрирован хук для: decoder.layers.2.self_attention_block\n",
      "Зарегистрирован хук для: decoder.layers.2.cross_attention_block\n",
      "Зарегистрирован хук для: decoder.layers.3.self_attention_block\n",
      "Зарегистрирован хук для: decoder.layers.3.cross_attention_block\n"
     ]
    }
   ],
   "execution_count": 22
  },
  {
   "metadata": {
    "ExecuteTime": {
     "end_time": "2025-06-29T11:52:05.795340Z",
     "start_time": "2025-06-29T11:52:05.699262Z"
    }
   },
   "cell_type": "code",
   "source": [
    "transformer_correction.load_state_dict(chps['transformer_correction'])\n",
    "correction_data.load_state_dict(chps['correction_data'])"
   ],
   "id": "747640f4a33141ba",
   "outputs": [
    {
     "data": {
      "text/plain": [
       "<All keys matched successfully>"
      ]
     },
     "execution_count": 23,
     "metadata": {},
     "output_type": "execute_result"
    }
   ],
   "execution_count": 23
  },
  {
   "metadata": {
    "ExecuteTime": {
     "end_time": "2025-06-29T11:47:00.217063Z",
     "start_time": "2025-06-29T11:47:00.213332Z"
    }
   },
   "cell_type": "code",
   "source": "from torchinfo import summary",
   "id": "6f6620ec95433f02",
   "outputs": [],
   "execution_count": 14
  },
  {
   "metadata": {
    "ExecuteTime": {
     "end_time": "2025-06-29T11:47:02.063371Z",
     "start_time": "2025-06-29T11:47:00.668509Z"
    }
   },
   "cell_type": "code",
   "source": "summary(transformer_correction, input_data=(torch.zeros(1, 2048, dtype=torch.int32),torch.zeros(1, 2048, dtype=torch.float32)))",
   "id": "f5e6344939ac31d4",
   "outputs": [
    {
     "name": "stdout",
     "output_type": "stream",
     "text": [
      "Хук сработал для: LocalAttentionBlock(\n",
      "  (w_q): Linear(in_features=1024, out_features=1024, bias=False)\n",
      "  (w_k): Linear(in_features=1024, out_features=1024, bias=False)\n",
      "  (w_v): Linear(in_features=1024, out_features=1024, bias=False)\n",
      "  (w_o): Linear(in_features=1024, out_features=1024, bias=False)\n",
      "  (dropout): Dropout(p=0.1, inplace=False)\n",
      "), weights found: True\n",
      "Хук сработал для: LocalAttentionBlock(\n",
      "  (w_q): Linear(in_features=1024, out_features=1024, bias=False)\n",
      "  (w_k): Linear(in_features=1024, out_features=1024, bias=False)\n",
      "  (w_v): Linear(in_features=1024, out_features=1024, bias=False)\n",
      "  (w_o): Linear(in_features=1024, out_features=1024, bias=False)\n",
      "  (dropout): Dropout(p=0.1, inplace=False)\n",
      "), weights found: True\n",
      "Хук сработал для: LocalAttentionBlock(\n",
      "  (w_q): Linear(in_features=1024, out_features=1024, bias=False)\n",
      "  (w_k): Linear(in_features=1024, out_features=1024, bias=False)\n",
      "  (w_v): Linear(in_features=1024, out_features=1024, bias=False)\n",
      "  (w_o): Linear(in_features=1024, out_features=1024, bias=False)\n",
      "  (dropout): Dropout(p=0.1, inplace=False)\n",
      "), weights found: True\n",
      "Хук сработал для: LocalAttentionBlock(\n",
      "  (w_q): Linear(in_features=1024, out_features=1024, bias=False)\n",
      "  (w_k): Linear(in_features=1024, out_features=1024, bias=False)\n",
      "  (w_v): Linear(in_features=1024, out_features=1024, bias=False)\n",
      "  (w_o): Linear(in_features=1024, out_features=1024, bias=False)\n",
      "  (dropout): Dropout(p=0.1, inplace=False)\n",
      "), weights found: True\n",
      "Хук сработал для: LocalAttentionBlock(\n",
      "  (w_q): Linear(in_features=1024, out_features=1024, bias=False)\n",
      "  (w_k): Linear(in_features=1024, out_features=1024, bias=False)\n",
      "  (w_v): Linear(in_features=1024, out_features=1024, bias=False)\n",
      "  (w_o): Linear(in_features=1024, out_features=1024, bias=False)\n",
      "  (dropout): Dropout(p=0.1, inplace=False)\n",
      "), weights found: True\n",
      "Хук сработал для: LocalAttentionBlock(\n",
      "  (w_q): Linear(in_features=1024, out_features=1024, bias=False)\n",
      "  (w_k): Linear(in_features=1024, out_features=1024, bias=False)\n",
      "  (w_v): Linear(in_features=1024, out_features=1024, bias=False)\n",
      "  (w_o): Linear(in_features=1024, out_features=1024, bias=False)\n",
      "  (dropout): Dropout(p=0.1, inplace=False)\n",
      "), weights found: True\n",
      "Хук сработал для: LocalAttentionBlock(\n",
      "  (w_q): Linear(in_features=1024, out_features=1024, bias=False)\n",
      "  (w_k): Linear(in_features=1024, out_features=1024, bias=False)\n",
      "  (w_v): Linear(in_features=1024, out_features=1024, bias=False)\n",
      "  (w_o): Linear(in_features=1024, out_features=1024, bias=False)\n",
      "  (dropout): Dropout(p=0.1, inplace=False)\n",
      "), weights found: True\n",
      "Хук сработал для: LocalAttentionBlock(\n",
      "  (w_q): Linear(in_features=1024, out_features=1024, bias=False)\n",
      "  (w_k): Linear(in_features=1024, out_features=1024, bias=False)\n",
      "  (w_v): Linear(in_features=1024, out_features=1024, bias=False)\n",
      "  (w_o): Linear(in_features=1024, out_features=1024, bias=False)\n",
      "  (dropout): Dropout(p=0.1, inplace=False)\n",
      "), weights found: True\n",
      "Хук сработал для: LocalAttentionBlock(\n",
      "  (w_q): Linear(in_features=1024, out_features=1024, bias=False)\n",
      "  (w_k): Linear(in_features=1024, out_features=1024, bias=False)\n",
      "  (w_v): Linear(in_features=1024, out_features=1024, bias=False)\n",
      "  (w_o): Linear(in_features=1024, out_features=1024, bias=False)\n",
      "  (dropout): Dropout(p=0.1, inplace=False)\n",
      "), weights found: True\n",
      "Хук сработал для: LocalAttentionBlock(\n",
      "  (w_q): Linear(in_features=1024, out_features=1024, bias=False)\n",
      "  (w_k): Linear(in_features=1024, out_features=1024, bias=False)\n",
      "  (w_v): Linear(in_features=1024, out_features=1024, bias=False)\n",
      "  (w_o): Linear(in_features=1024, out_features=1024, bias=False)\n",
      "  (dropout): Dropout(p=0.1, inplace=False)\n",
      "), weights found: True\n",
      "Хук сработал для: LocalAttentionBlock(\n",
      "  (w_q): Linear(in_features=1024, out_features=1024, bias=False)\n",
      "  (w_k): Linear(in_features=1024, out_features=1024, bias=False)\n",
      "  (w_v): Linear(in_features=1024, out_features=1024, bias=False)\n",
      "  (w_o): Linear(in_features=1024, out_features=1024, bias=False)\n",
      "  (dropout): Dropout(p=0.1, inplace=False)\n",
      "), weights found: True\n",
      "Хук сработал для: LocalAttentionBlock(\n",
      "  (w_q): Linear(in_features=1024, out_features=1024, bias=False)\n",
      "  (w_k): Linear(in_features=1024, out_features=1024, bias=False)\n",
      "  (w_v): Linear(in_features=1024, out_features=1024, bias=False)\n",
      "  (w_o): Linear(in_features=1024, out_features=1024, bias=False)\n",
      "  (dropout): Dropout(p=0.1, inplace=False)\n",
      "), weights found: True\n"
     ]
    },
    {
     "data": {
      "text/plain": [
       "=========================================================================================================\n",
       "Layer (type:depth-idx)                                  Output Shape              Param #\n",
       "=========================================================================================================\n",
       "Transformer                                             [1, 2048, 6542]           --\n",
       "├─InputEmbeddings: 1-1                                  [1, 2048, 1024]           --\n",
       "│    └─Embedding: 2-1                                   [1, 2048, 1024]           6,699,008\n",
       "├─PositionalEncoding: 1-2                               [1, 2048, 1024]           --\n",
       "│    └─Dropout: 2-2                                     [1, 2048, 1024]           --\n",
       "├─Encoder: 1-3                                          [1, 2048, 1024]           --\n",
       "│    └─ModuleList: 2-3                                  --                        --\n",
       "│    │    └─EncoderBlock: 3-1                           [1, 2048, 1024]           6,297,600\n",
       "│    │    └─EncoderBlock: 3-2                           [1, 2048, 1024]           6,297,600\n",
       "│    │    └─EncoderBlock: 3-3                           [1, 2048, 1024]           6,297,600\n",
       "│    │    └─EncoderBlock: 3-4                           [1, 2048, 1024]           6,297,600\n",
       "│    └─LayerNormalization: 2-4                          [1, 2048, 1024]           2,048\n",
       "├─Decoder: 1-4                                          [1, 2048, 1024]           --\n",
       "│    └─ModuleList: 2-5                                  --                        --\n",
       "│    │    └─DecoderBlock: 3-5                           [1, 2048, 1024]           10,493,952\n",
       "│    │    └─DecoderBlock: 3-6                           [1, 2048, 1024]           10,493,952\n",
       "│    │    └─DecoderBlock: 3-7                           [1, 2048, 1024]           10,493,952\n",
       "│    │    └─DecoderBlock: 3-8                           [1, 2048, 1024]           10,493,952\n",
       "│    └─LayerNormalization: 2-6                          [1, 2048, 1024]           2,048\n",
       "├─ProjectionLayer: 1-5                                  [1, 2048, 6542]           --\n",
       "│    └─Linear: 2-7                                      [1, 2048, 6542]           6,705,550\n",
       "=========================================================================================================\n",
       "Total params: 80,574,862\n",
       "Trainable params: 80,574,862\n",
       "Non-trainable params: 0\n",
       "Total mult-adds (Units.MEGABYTES): 80.55\n",
       "=========================================================================================================\n",
       "Input size (MB): 0.02\n",
       "Forward/backward pass size (MB): 1566.80\n",
       "Params size (MB): 322.30\n",
       "Estimated Total Size (MB): 1889.12\n",
       "========================================================================================================="
      ]
     },
     "execution_count": 15,
     "metadata": {},
     "output_type": "execute_result"
    }
   ],
   "execution_count": 15
  },
  {
   "metadata": {
    "ExecuteTime": {
     "end_time": "2025-06-29T11:52:19.324892Z",
     "start_time": "2025-06-29T11:52:19.321449Z"
    }
   },
   "cell_type": "code",
   "source": [
    "visualizer = AttentionVisualizer()\n",
    "visualizer.register_hooks(correction_data)"
   ],
   "id": "f921a7236bd2a321",
   "outputs": [
    {
     "name": "stdout",
     "output_type": "stream",
     "text": [
      "Зарегистрирован хук для: encoder.layers.0.self_attention_block\n",
      "Зарегистрирован хук для: encoder.layers.1.self_attention_block\n",
      "Зарегистрирован хук для: encoder.layers.2.self_attention_block\n",
      "Зарегистрирован хук для: encoder.layers.3.self_attention_block\n",
      "Зарегистрирован хук для: decoder.layers.0.self_attention_block\n",
      "Зарегистрирован хук для: decoder.layers.0.cross_attention_block\n",
      "Зарегистрирован хук для: decoder.layers.1.self_attention_block\n",
      "Зарегистрирован хук для: decoder.layers.1.cross_attention_block\n",
      "Зарегистрирован хук для: decoder.layers.2.self_attention_block\n",
      "Зарегистрирован хук для: decoder.layers.2.cross_attention_block\n",
      "Зарегистрирован хук для: decoder.layers.3.self_attention_block\n",
      "Зарегистрирован хук для: decoder.layers.3.cross_attention_block\n"
     ]
    }
   ],
   "execution_count": 24
  },
  {
   "metadata": {
    "ExecuteTime": {
     "end_time": "2025-06-29T11:52:22.842582Z",
     "start_time": "2025-06-29T11:52:22.838799Z"
    }
   },
   "cell_type": "code",
   "source": "visualizer = correction_data.attention_visualizer",
   "id": "9f2328d359e998fc",
   "outputs": [],
   "execution_count": 25
  },
  {
   "metadata": {
    "ExecuteTime": {
     "end_time": "2025-06-29T11:53:09.417111Z",
     "start_time": "2025-06-29T11:53:07.271409Z"
    }
   },
   "cell_type": "code",
   "source": [
    "with torch.no_grad():\n",
    "    correction_dataaa = correction_data(origin_ids, attention_mask_masked_ids)\n"
   ],
   "id": "5562120cc90f9546",
   "outputs": [
    {
     "name": "stdout",
     "output_type": "stream",
     "text": [
      "Хук сработал для: LocalAttentionBlock(\n",
      "  (w_q): Linear(in_features=32, out_features=32, bias=False)\n",
      "  (w_k): Linear(in_features=32, out_features=32, bias=False)\n",
      "  (w_v): Linear(in_features=32, out_features=32, bias=False)\n",
      "  (w_o): Linear(in_features=32, out_features=32, bias=False)\n",
      "  (dropout): Dropout(p=0.1, inplace=False)\n",
      "), weights found: True\n",
      "Хук сработал для: LocalAttentionBlock(\n",
      "  (w_q): Linear(in_features=32, out_features=32, bias=False)\n",
      "  (w_k): Linear(in_features=32, out_features=32, bias=False)\n",
      "  (w_v): Linear(in_features=32, out_features=32, bias=False)\n",
      "  (w_o): Linear(in_features=32, out_features=32, bias=False)\n",
      "  (dropout): Dropout(p=0.1, inplace=False)\n",
      "), weights found: True\n",
      "Хук сработал для: LocalAttentionBlock(\n",
      "  (w_q): Linear(in_features=32, out_features=32, bias=False)\n",
      "  (w_k): Linear(in_features=32, out_features=32, bias=False)\n",
      "  (w_v): Linear(in_features=32, out_features=32, bias=False)\n",
      "  (w_o): Linear(in_features=32, out_features=32, bias=False)\n",
      "  (dropout): Dropout(p=0.1, inplace=False)\n",
      "), weights found: True\n",
      "Хук сработал для: LocalAttentionBlock(\n",
      "  (w_q): Linear(in_features=32, out_features=32, bias=False)\n",
      "  (w_k): Linear(in_features=32, out_features=32, bias=False)\n",
      "  (w_v): Linear(in_features=32, out_features=32, bias=False)\n",
      "  (w_o): Linear(in_features=32, out_features=32, bias=False)\n",
      "  (dropout): Dropout(p=0.1, inplace=False)\n",
      "), weights found: True\n",
      "Хук сработал для: LocalAttentionBlock(\n",
      "  (w_q): Linear(in_features=32, out_features=32, bias=False)\n",
      "  (w_k): Linear(in_features=32, out_features=32, bias=False)\n",
      "  (w_v): Linear(in_features=32, out_features=32, bias=False)\n",
      "  (w_o): Linear(in_features=32, out_features=32, bias=False)\n",
      "  (dropout): Dropout(p=0.1, inplace=False)\n",
      "), weights found: True\n",
      "Хук сработал для: LocalAttentionBlock(\n",
      "  (w_q): Linear(in_features=32, out_features=32, bias=False)\n",
      "  (w_k): Linear(in_features=32, out_features=32, bias=False)\n",
      "  (w_v): Linear(in_features=32, out_features=32, bias=False)\n",
      "  (w_o): Linear(in_features=32, out_features=32, bias=False)\n",
      "  (dropout): Dropout(p=0.1, inplace=False)\n",
      "), weights found: True\n",
      "Хук сработал для: LocalAttentionBlock(\n",
      "  (w_q): Linear(in_features=32, out_features=32, bias=False)\n",
      "  (w_k): Linear(in_features=32, out_features=32, bias=False)\n",
      "  (w_v): Linear(in_features=32, out_features=32, bias=False)\n",
      "  (w_o): Linear(in_features=32, out_features=32, bias=False)\n",
      "  (dropout): Dropout(p=0.1, inplace=False)\n",
      "), weights found: True\n",
      "Хук сработал для: LocalAttentionBlock(\n",
      "  (w_q): Linear(in_features=32, out_features=32, bias=False)\n",
      "  (w_k): Linear(in_features=32, out_features=32, bias=False)\n",
      "  (w_v): Linear(in_features=32, out_features=32, bias=False)\n",
      "  (w_o): Linear(in_features=32, out_features=32, bias=False)\n",
      "  (dropout): Dropout(p=0.1, inplace=False)\n",
      "), weights found: True\n",
      "Хук сработал для: LocalAttentionBlock(\n",
      "  (w_q): Linear(in_features=32, out_features=32, bias=False)\n",
      "  (w_k): Linear(in_features=32, out_features=32, bias=False)\n",
      "  (w_v): Linear(in_features=32, out_features=32, bias=False)\n",
      "  (w_o): Linear(in_features=32, out_features=32, bias=False)\n",
      "  (dropout): Dropout(p=0.1, inplace=False)\n",
      "), weights found: True\n",
      "Хук сработал для: LocalAttentionBlock(\n",
      "  (w_q): Linear(in_features=32, out_features=32, bias=False)\n",
      "  (w_k): Linear(in_features=32, out_features=32, bias=False)\n",
      "  (w_v): Linear(in_features=32, out_features=32, bias=False)\n",
      "  (w_o): Linear(in_features=32, out_features=32, bias=False)\n",
      "  (dropout): Dropout(p=0.1, inplace=False)\n",
      "), weights found: True\n",
      "Хук сработал для: LocalAttentionBlock(\n",
      "  (w_q): Linear(in_features=32, out_features=32, bias=False)\n",
      "  (w_k): Linear(in_features=32, out_features=32, bias=False)\n",
      "  (w_v): Linear(in_features=32, out_features=32, bias=False)\n",
      "  (w_o): Linear(in_features=32, out_features=32, bias=False)\n",
      "  (dropout): Dropout(p=0.1, inplace=False)\n",
      "), weights found: True\n",
      "Хук сработал для: LocalAttentionBlock(\n",
      "  (w_q): Linear(in_features=32, out_features=32, bias=False)\n",
      "  (w_k): Linear(in_features=32, out_features=32, bias=False)\n",
      "  (w_v): Linear(in_features=32, out_features=32, bias=False)\n",
      "  (w_o): Linear(in_features=32, out_features=32, bias=False)\n",
      "  (dropout): Dropout(p=0.1, inplace=False)\n",
      "), weights found: True\n",
      "Хук сработал для: LocalAttentionBlock(\n",
      "  (w_q): Linear(in_features=32, out_features=32, bias=False)\n",
      "  (w_k): Linear(in_features=32, out_features=32, bias=False)\n",
      "  (w_v): Linear(in_features=32, out_features=32, bias=False)\n",
      "  (w_o): Linear(in_features=32, out_features=32, bias=False)\n",
      "  (dropout): Dropout(p=0.1, inplace=False)\n",
      "), weights found: True\n",
      "Хук сработал для: LocalAttentionBlock(\n",
      "  (w_q): Linear(in_features=32, out_features=32, bias=False)\n",
      "  (w_k): Linear(in_features=32, out_features=32, bias=False)\n",
      "  (w_v): Linear(in_features=32, out_features=32, bias=False)\n",
      "  (w_o): Linear(in_features=32, out_features=32, bias=False)\n",
      "  (dropout): Dropout(p=0.1, inplace=False)\n",
      "), weights found: True\n",
      "Хук сработал для: LocalAttentionBlock(\n",
      "  (w_q): Linear(in_features=32, out_features=32, bias=False)\n",
      "  (w_k): Linear(in_features=32, out_features=32, bias=False)\n",
      "  (w_v): Linear(in_features=32, out_features=32, bias=False)\n",
      "  (w_o): Linear(in_features=32, out_features=32, bias=False)\n",
      "  (dropout): Dropout(p=0.1, inplace=False)\n",
      "), weights found: True\n",
      "Хук сработал для: LocalAttentionBlock(\n",
      "  (w_q): Linear(in_features=32, out_features=32, bias=False)\n",
      "  (w_k): Linear(in_features=32, out_features=32, bias=False)\n",
      "  (w_v): Linear(in_features=32, out_features=32, bias=False)\n",
      "  (w_o): Linear(in_features=32, out_features=32, bias=False)\n",
      "  (dropout): Dropout(p=0.1, inplace=False)\n",
      "), weights found: True\n",
      "Хук сработал для: LocalAttentionBlock(\n",
      "  (w_q): Linear(in_features=32, out_features=32, bias=False)\n",
      "  (w_k): Linear(in_features=32, out_features=32, bias=False)\n",
      "  (w_v): Linear(in_features=32, out_features=32, bias=False)\n",
      "  (w_o): Linear(in_features=32, out_features=32, bias=False)\n",
      "  (dropout): Dropout(p=0.1, inplace=False)\n",
      "), weights found: True\n",
      "Хук сработал для: LocalAttentionBlock(\n",
      "  (w_q): Linear(in_features=32, out_features=32, bias=False)\n",
      "  (w_k): Linear(in_features=32, out_features=32, bias=False)\n",
      "  (w_v): Linear(in_features=32, out_features=32, bias=False)\n",
      "  (w_o): Linear(in_features=32, out_features=32, bias=False)\n",
      "  (dropout): Dropout(p=0.1, inplace=False)\n",
      "), weights found: True\n",
      "Хук сработал для: LocalAttentionBlock(\n",
      "  (w_q): Linear(in_features=32, out_features=32, bias=False)\n",
      "  (w_k): Linear(in_features=32, out_features=32, bias=False)\n",
      "  (w_v): Linear(in_features=32, out_features=32, bias=False)\n",
      "  (w_o): Linear(in_features=32, out_features=32, bias=False)\n",
      "  (dropout): Dropout(p=0.1, inplace=False)\n",
      "), weights found: True\n",
      "Хук сработал для: LocalAttentionBlock(\n",
      "  (w_q): Linear(in_features=32, out_features=32, bias=False)\n",
      "  (w_k): Linear(in_features=32, out_features=32, bias=False)\n",
      "  (w_v): Linear(in_features=32, out_features=32, bias=False)\n",
      "  (w_o): Linear(in_features=32, out_features=32, bias=False)\n",
      "  (dropout): Dropout(p=0.1, inplace=False)\n",
      "), weights found: True\n",
      "Хук сработал для: LocalAttentionBlock(\n",
      "  (w_q): Linear(in_features=32, out_features=32, bias=False)\n",
      "  (w_k): Linear(in_features=32, out_features=32, bias=False)\n",
      "  (w_v): Linear(in_features=32, out_features=32, bias=False)\n",
      "  (w_o): Linear(in_features=32, out_features=32, bias=False)\n",
      "  (dropout): Dropout(p=0.1, inplace=False)\n",
      "), weights found: True\n",
      "Хук сработал для: LocalAttentionBlock(\n",
      "  (w_q): Linear(in_features=32, out_features=32, bias=False)\n",
      "  (w_k): Linear(in_features=32, out_features=32, bias=False)\n",
      "  (w_v): Linear(in_features=32, out_features=32, bias=False)\n",
      "  (w_o): Linear(in_features=32, out_features=32, bias=False)\n",
      "  (dropout): Dropout(p=0.1, inplace=False)\n",
      "), weights found: True\n",
      "Хук сработал для: LocalAttentionBlock(\n",
      "  (w_q): Linear(in_features=32, out_features=32, bias=False)\n",
      "  (w_k): Linear(in_features=32, out_features=32, bias=False)\n",
      "  (w_v): Linear(in_features=32, out_features=32, bias=False)\n",
      "  (w_o): Linear(in_features=32, out_features=32, bias=False)\n",
      "  (dropout): Dropout(p=0.1, inplace=False)\n",
      "), weights found: True\n",
      "Хук сработал для: LocalAttentionBlock(\n",
      "  (w_q): Linear(in_features=32, out_features=32, bias=False)\n",
      "  (w_k): Linear(in_features=32, out_features=32, bias=False)\n",
      "  (w_v): Linear(in_features=32, out_features=32, bias=False)\n",
      "  (w_o): Linear(in_features=32, out_features=32, bias=False)\n",
      "  (dropout): Dropout(p=0.1, inplace=False)\n",
      "), weights found: True\n"
     ]
    }
   ],
   "execution_count": 26
  },
  {
   "metadata": {
    "ExecuteTime": {
     "end_time": "2025-06-29T11:53:12.160829Z",
     "start_time": "2025-06-29T11:53:11.888745Z"
    }
   },
   "cell_type": "code",
   "source": "visualizer.visualize(\"decoder.layers.0.self_attention_block\", head=0)",
   "id": "283485b84444cf3b",
   "outputs": [
    {
     "name": "stdout",
     "output_type": "stream",
     "text": [
      "Форма весов внимания для decoder.layers.0.self_attention_block: torch.Size([2, 4, 2048, 2048])\n"
     ]
    },
    {
     "data": {
      "text/plain": [
       "<Figure size 1000x800 with 2 Axes>"
      ],
      "image/png": "[encoded data removed]"
     },
     "metadata": {},
     "output_type": "display_data"
    }
   ],
   "execution_count": 27
  },
  {
   "metadata": {},
   "cell_type": "code",
   "source": "",
   "id": "84a6f6393f759e75",
   "outputs": [],
   "execution_count": null
  }
 ],
 "metadata": {
  "kernelspec": {
   "display_name": "Python 3",
   "language": "python",
   "name": "python3"
  },
  "language_info": {
   "codemirror_mode": {
    "name": "ipython",
    "version": 2
   },
   "file_extension": ".py",
   "mimetype": "text/x-python",
   "name": "python",
   "nbconvert_exporter": "python",
   "pygments_lexer": "ipython2",
   "version": "2.7.6"
  }
 },
 "nbformat": 4,
 "nbformat_minor": 5
}
