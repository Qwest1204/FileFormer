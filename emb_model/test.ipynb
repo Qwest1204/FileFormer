{
 "cells": [
  {
   "cell_type": "code",
   "id": "initial_id",
   "metadata": {
    "collapsed": true,
    "ExecuteTime": {
     "end_time": "2025-05-15T19:45:43.922216Z",
     "start_time": "2025-05-15T19:45:42.864961Z"
    }
   },
   "source": [
    "from polars.dependencies import torch\n",
    "\n",
    "from model import *"
   ],
   "outputs": [],
   "execution_count": 1
  },
  {
   "metadata": {
    "ExecuteTime": {
     "end_time": "2025-05-15T19:45:44.145549Z",
     "start_time": "2025-05-15T19:45:44.018923Z"
    }
   },
   "cell_type": "code",
   "source": "net = EmbModel(vocab_size=256*4)",
   "id": "364503ffd76a3313",
   "outputs": [],
   "execution_count": 2
  },
  {
   "metadata": {
    "ExecuteTime": {
     "end_time": "2025-05-15T19:45:44.344420Z",
     "start_time": "2025-05-15T19:45:44.155194Z"
    }
   },
   "cell_type": "code",
   "source": "input_data = torch.randint(0, 256*4, (1228, 32), dtype=torch.long).to('cuda')  # shape: [3, 16]",
   "id": "9daf5989258014ca",
   "outputs": [],
   "execution_count": 3
  },
  {
   "metadata": {
    "ExecuteTime": {
     "end_time": "2025-05-15T19:45:44.361970Z",
     "start_time": "2025-05-15T19:45:44.357872Z"
    }
   },
   "cell_type": "code",
   "source": "input_data[0]",
   "id": "c78612f48e34ec1d",
   "outputs": [
    {
     "data": {
      "text/plain": [
       "tensor([403, 488, 777, 693, 218, 584, 116,  95, 993, 654, 465, 859, 338, 563,\n",
       "        949,  37, 958, 671, 733, 292, 263, 975, 853, 398, 342, 123, 873, 625,\n",
       "        479, 750,  12, 152], device='cuda:0')"
      ]
     },
     "execution_count": 4,
     "metadata": {},
     "output_type": "execute_result"
    }
   ],
   "execution_count": 4
  },
  {
   "metadata": {
    "ExecuteTime": {
     "end_time": "2025-05-15T19:45:47.047280Z",
     "start_time": "2025-05-15T19:45:44.405872Z"
    }
   },
   "cell_type": "code",
   "source": [
    "criterion = nn.CrossEntropyLoss()\n",
    "optimizer = torch.optim.Adam(net.parameters(), lr=0.001)\n",
    "net.to('cuda')"
   ],
   "id": "237bdf6338898e68",
   "outputs": [
    {
     "data": {
      "text/plain": [
       "EmbModel(\n",
       "  (encoder_embed): Embedding(1024, 128)\n",
       "  (encoder): Sequential(\n",
       "    (0): Linear(in_features=4096, out_features=1024, bias=True)\n",
       "    (1): ReLU()\n",
       "    (2): Linear(in_features=1024, out_features=512, bias=True)\n",
       "    (3): ReLU()\n",
       "    (4): Linear(in_features=512, out_features=256, bias=True)\n",
       "    (5): ReLU()\n",
       "    (6): Linear(in_features=256, out_features=128, bias=True)\n",
       "  )\n",
       "  (decoder): Sequential(\n",
       "    (0): Linear(in_features=128, out_features=256, bias=True)\n",
       "    (1): ReLU()\n",
       "    (2): Linear(in_features=256, out_features=512, bias=True)\n",
       "    (3): ReLU()\n",
       "    (4): Linear(in_features=512, out_features=1024, bias=True)\n",
       "    (5): ReLU()\n",
       "    (6): Linear(in_features=1024, out_features=32768, bias=True)\n",
       "  )\n",
       ")"
      ]
     },
     "execution_count": 5,
     "metadata": {},
     "output_type": "execute_result"
    }
   ],
   "execution_count": 5
  },
  {
   "metadata": {
    "ExecuteTime": {
     "end_time": "2025-05-15T19:55:20.657968Z",
     "start_time": "2025-05-15T19:51:04.393243Z"
    }
   },
   "cell_type": "code",
   "source": [
    "for epoch in range(25):\n",
    "    for batch in input_data:\n",
    "        net.train()\n",
    "        # batch: [batch_size, 16]\n",
    "        optimizer.zero_grad()\n",
    "        output = net(batch.unsqueeze(0))  # [batch_size, 16, vocab_size]\n",
    "\n",
    "        # Вычисляем потерю для каждого токена в последовательности\n",
    "        loss = criterion(output.view(-1, 256*4), batch.unsqueeze(0).view(-1))\n",
    "\n",
    "        loss.backward()\n",
    "        optimizer.step()\n",
    "\n",
    "    print(f\"Epoch {epoch}, Loss: {loss.item()}\")"
   ],
   "id": "4925df8221b49c2c",
   "outputs": [
    {
     "name": "stdout",
     "output_type": "stream",
     "text": [
      "Epoch 0, Loss: 6.544066429138184\n",
      "Epoch 1, Loss: 6.54044246673584\n",
      "Epoch 2, Loss: 6.537015438079834\n",
      "Epoch 3, Loss: 6.533761978149414\n",
      "Epoch 4, Loss: 6.53067684173584\n",
      "Epoch 5, Loss: 6.527747631072998\n",
      "Epoch 6, Loss: 6.524967193603516\n",
      "Epoch 7, Loss: 6.522325038909912\n",
      "Epoch 8, Loss: 6.519815921783447\n",
      "Epoch 9, Loss: 6.517430782318115\n",
      "Epoch 10, Loss: 6.515161514282227\n",
      "Epoch 11, Loss: 6.513003826141357\n",
      "Epoch 12, Loss: 6.510951995849609\n",
      "Epoch 13, Loss: 6.508997440338135\n",
      "Epoch 14, Loss: 6.507136344909668\n",
      "Epoch 15, Loss: 6.5053629875183105\n",
      "Epoch 16, Loss: 6.503673553466797\n",
      "Epoch 17, Loss: 6.502063274383545\n",
      "Epoch 18, Loss: 6.5005292892456055\n",
      "Epoch 19, Loss: 6.499063968658447\n",
      "Epoch 20, Loss: 6.4976677894592285\n",
      "Epoch 21, Loss: 6.496335029602051\n",
      "Epoch 22, Loss: 6.495060920715332\n",
      "Epoch 23, Loss: 6.493847370147705\n",
      "Epoch 24, Loss: 6.492687225341797\n"
     ]
    }
   ],
   "execution_count": 7
  },
  {
   "metadata": {
    "ExecuteTime": {
     "end_time": "2025-05-15T20:04:42.106298Z",
     "start_time": "2025-05-15T20:04:42.102836Z"
    }
   },
   "cell_type": "code",
   "source": "net.eval()",
   "id": "c1ddba26d05d9468",
   "outputs": [
    {
     "data": {
      "text/plain": [
       "EmbModel(\n",
       "  (encoder_embed): Embedding(1024, 128)\n",
       "  (encoder): Sequential(\n",
       "    (0): Linear(in_features=4096, out_features=1024, bias=True)\n",
       "    (1): ReLU()\n",
       "    (2): Linear(in_features=1024, out_features=512, bias=True)\n",
       "    (3): ReLU()\n",
       "    (4): Linear(in_features=512, out_features=256, bias=True)\n",
       "    (5): ReLU()\n",
       "    (6): Linear(in_features=256, out_features=128, bias=True)\n",
       "  )\n",
       "  (decoder): Sequential(\n",
       "    (0): Linear(in_features=128, out_features=256, bias=True)\n",
       "    (1): ReLU()\n",
       "    (2): Linear(in_features=256, out_features=512, bias=True)\n",
       "    (3): ReLU()\n",
       "    (4): Linear(in_features=512, out_features=1024, bias=True)\n",
       "    (5): ReLU()\n",
       "    (6): Linear(in_features=1024, out_features=32768, bias=True)\n",
       "  )\n",
       ")"
      ]
     },
     "execution_count": 8,
     "metadata": {},
     "output_type": "execute_result"
    }
   ],
   "execution_count": 8
  },
  {
   "metadata": {
    "ExecuteTime": {
     "end_time": "2025-05-15T20:04:45.115542Z",
     "start_time": "2025-05-15T20:04:45.111346Z"
    }
   },
   "cell_type": "code",
   "source": "torch.argmax(net(input_data[0].unsqueeze(0).to('cuda')).to('cpu'), dim=-1)",
   "id": "3bd8a0935b7fbb10",
   "outputs": [
    {
     "data": {
      "text/plain": [
       "tensor([[ 318,  565,  533,  342,  565,  182,  789,  262,  802,  595, 1021,  569,\n",
       "          239,  440,  807,   64,  999,  442,  554,  342,  431,  493,  119,  979,\n",
       "          939,  651,  656,   11,  501,  500,  835,  552]])"
      ]
     },
     "execution_count": 9,
     "metadata": {},
     "output_type": "execute_result"
    }
   ],
   "execution_count": 9
  },
  {
   "metadata": {
    "ExecuteTime": {
     "end_time": "2025-05-15T20:04:46.023441Z",
     "start_time": "2025-05-15T20:04:46.020251Z"
    }
   },
   "cell_type": "code",
   "source": "input_data[0].unsqueeze(0)",
   "id": "a210c1e3388e8c63",
   "outputs": [
    {
     "data": {
      "text/plain": [
       "tensor([[403, 488, 777, 693, 218, 584, 116,  95, 993, 654, 465, 859, 338, 563,\n",
       "         949,  37, 958, 671, 733, 292, 263, 975, 853, 398, 342, 123, 873, 625,\n",
       "         479, 750,  12, 152]], device='cuda:0')"
      ]
     },
     "execution_count": 10,
     "metadata": {},
     "output_type": "execute_result"
    }
   ],
   "execution_count": 10
  },
  {
   "metadata": {},
   "cell_type": "code",
   "outputs": [],
   "execution_count": null,
   "source": "",
   "id": "3ade8383c2cc0775"
  }
 ],
 "metadata": {
  "kernelspec": {
   "display_name": "Python 3",
   "language": "python",
   "name": "python3"
  },
  "language_info": {
   "codemirror_mode": {
    "name": "ipython",
    "version": 2
   },
   "file_extension": ".py",
   "mimetype": "text/x-python",
   "name": "python",
   "nbconvert_exporter": "python",
   "pygments_lexer": "ipython2",
   "version": "2.7.6"
  }
 },
 "nbformat": 4,
 "nbformat_minor": 5
}
