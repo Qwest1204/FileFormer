{
 "cells": [
  {
   "cell_type": "code",
   "id": "initial_id",
   "metadata": {
    "collapsed": true,
    "ExecuteTime": {
     "end_time": "2025-05-24T18:58:43.899770Z",
     "start_time": "2025-05-24T18:58:43.242304Z"
    }
   },
   "source": [
    "from torch.utils.data import DataLoader\n",
    "import torch\n",
    "import torch.optim as optim\n",
    "import torch.nn.functional as F"
   ],
   "outputs": [],
   "execution_count": 1
  },
  {
   "metadata": {
    "ExecuteTime": {
     "end_time": "2025-05-24T18:58:44.011844Z",
     "start_time": "2025-05-24T18:58:44.006971Z"
    }
   },
   "cell_type": "code",
   "source": [
    "from tokenizer import Tokenizer\n",
    "from file_dataset import FileDataset"
   ],
   "id": "f8c8867f20a09110",
   "outputs": [],
   "execution_count": 2
  },
  {
   "metadata": {
    "ExecuteTime": {
     "end_time": "2025-05-24T18:59:31.030361Z",
     "start_time": "2025-05-24T18:58:44.295089Z"
    }
   },
   "cell_type": "code",
   "source": "dataset = FileDataset(\"/Users/daniilogorodnikov/dataset/app\", 'sha256', 129)",
   "id": "71033dbf12b88321",
   "outputs": [
    {
     "name": "stderr",
     "output_type": "stream",
     "text": [
      "100%|██████████| 780/780 [00:46<00:00, 16.71it/s]\n"
     ]
    }
   ],
   "execution_count": 3
  },
  {
   "metadata": {
    "ExecuteTime": {
     "end_time": "2025-05-24T18:59:31.044479Z",
     "start_time": "2025-05-24T18:59:31.042907Z"
    }
   },
   "cell_type": "code",
   "source": "dataloader = DataLoader(dataset, batch_size=1, shuffle=True)",
   "id": "dc2e1df66bad89a5",
   "outputs": [],
   "execution_count": 4
  },
  {
   "metadata": {
    "ExecuteTime": {
     "end_time": "2025-05-24T18:59:31.074002Z",
     "start_time": "2025-05-24T18:59:31.051534Z"
    }
   },
   "cell_type": "code",
   "source": "x = next(iter(dataloader))",
   "id": "167125a394929956",
   "outputs": [],
   "execution_count": 5
  },
  {
   "metadata": {
    "ExecuteTime": {
     "end_time": "2025-05-24T18:59:31.087377Z",
     "start_time": "2025-05-24T18:59:31.082946Z"
    }
   },
   "cell_type": "code",
   "source": [
    "from transformer_model import build_transformer\n",
    "from tokenizer import Tokenizer"
   ],
   "id": "65e460154f933",
   "outputs": [],
   "execution_count": 6
  },
  {
   "metadata": {
    "ExecuteTime": {
     "end_time": "2025-05-24T18:59:31.107945Z",
     "start_time": "2025-05-24T18:59:31.093395Z"
    }
   },
   "cell_type": "code",
   "source": "tokenizer = Tokenizer()",
   "id": "afa3643b7387383c",
   "outputs": [],
   "execution_count": 7
  },
  {
   "metadata": {
    "ExecuteTime": {
     "end_time": "2025-05-24T18:59:31.115597Z",
     "start_time": "2025-05-24T18:59:31.113726Z"
    }
   },
   "cell_type": "code",
   "source": "VOCAB_SIZE = tokenizer.get_vocab_size()",
   "id": "f4bc4f1cc21ac895",
   "outputs": [],
   "execution_count": 8
  },
  {
   "metadata": {
    "ExecuteTime": {
     "end_time": "2025-05-24T18:59:31.124167Z",
     "start_time": "2025-05-24T18:59:31.121512Z"
    }
   },
   "cell_type": "code",
   "source": "VOCAB_SIZE",
   "id": "9afc9626eeeb9ced",
   "outputs": [
    {
     "data": {
      "text/plain": [
       "65542"
      ]
     },
     "execution_count": 9,
     "metadata": {},
     "output_type": "execute_result"
    }
   ],
   "execution_count": 9
  },
  {
   "metadata": {
    "ExecuteTime": {
     "end_time": "2025-05-24T18:59:31.886588Z",
     "start_time": "2025-05-24T18:59:31.133914Z"
    }
   },
   "cell_type": "code",
   "source": [
    "transformer = build_transformer(vocab_size=VOCAB_SIZE,\n",
    "                                d_model=512,\n",
    "                                max_seq_len=128,\n",
    "                                d_ff=1024,\n",
    "                                dropout=0.1,\n",
    "                                n_layers=6,\n",
    "                                n_heads=8,\n",
    "                                factor=2)"
   ],
   "id": "86d43e3fe40fc118",
   "outputs": [],
   "execution_count": 10
  },
  {
   "metadata": {
    "ExecuteTime": {
     "end_time": "2025-05-24T18:59:31.897686Z",
     "start_time": "2025-05-24T18:59:31.894713Z"
    }
   },
   "cell_type": "code",
   "source": "x['labels'].shape",
   "id": "52147b27d24bb6d8",
   "outputs": [
    {
     "data": {
      "text/plain": [
       "torch.Size([1, 128])"
      ]
     },
     "execution_count": 11,
     "metadata": {},
     "output_type": "execute_result"
    }
   ],
   "execution_count": 11
  },
  {
   "metadata": {
    "ExecuteTime": {
     "end_time": "2025-05-24T18:59:44.999093Z",
     "start_time": "2025-05-24T18:59:44.960210Z"
    }
   },
   "cell_type": "code",
   "source": "eo = transformer.encode(x['input_ids'], x['attention_mask'])",
   "id": "87dd31a5992741a0",
   "outputs": [],
   "execution_count": 13
  },
  {
   "metadata": {
    "ExecuteTime": {
     "end_time": "2025-05-24T18:59:48.246132Z",
     "start_time": "2025-05-24T18:59:48.242406Z"
    }
   },
   "cell_type": "code",
   "source": "eo.shape",
   "id": "3358063559a0423f",
   "outputs": [
    {
     "data": {
      "text/plain": [
       "torch.Size([1, 64, 512])"
      ]
     },
     "execution_count": 14,
     "metadata": {},
     "output_type": "execute_result"
    }
   ],
   "execution_count": 14
  },
  {
   "metadata": {
    "ExecuteTime": {
     "end_time": "2025-05-24T19:01:06.712656Z",
     "start_time": "2025-05-24T19:01:06.708868Z"
    }
   },
   "cell_type": "code",
   "source": "x['attention_mask'].shape",
   "id": "a30a39272eb1efd2",
   "outputs": [
    {
     "data": {
      "text/plain": [
       "torch.Size([1, 128])"
      ]
     },
     "execution_count": 20,
     "metadata": {},
     "output_type": "execute_result"
    }
   ],
   "execution_count": 20
  },
  {
   "metadata": {
    "ExecuteTime": {
     "end_time": "2025-05-24T19:02:11.504757Z",
     "start_time": "2025-05-24T19:02:11.434727Z"
    }
   },
   "cell_type": "code",
   "source": "do = transformer.decode(eo, torch.ones((1, 64)))",
   "id": "eea489e4918e64d4",
   "outputs": [],
   "execution_count": 25
  },
  {
   "metadata": {
    "ExecuteTime": {
     "end_time": "2025-05-24T19:02:35.184836Z",
     "start_time": "2025-05-24T19:02:35.148168Z"
    }
   },
   "cell_type": "code",
   "source": "project = transformer.project(do)",
   "id": "bacf456cf01c3883",
   "outputs": [],
   "execution_count": 30
  },
  {
   "metadata": {
    "ExecuteTime": {
     "end_time": "2025-05-24T19:03:05.983204Z",
     "start_time": "2025-05-24T19:03:05.974490Z"
    }
   },
   "cell_type": "code",
   "source": "oo = torch.argmax(project, dim=-1)",
   "id": "77720fd69bd529e6",
   "outputs": [],
   "execution_count": 36
  },
  {
   "metadata": {
    "ExecuteTime": {
     "end_time": "2025-05-24T19:03:06.361157Z",
     "start_time": "2025-05-24T19:03:06.358260Z"
    }
   },
   "cell_type": "code",
   "source": "x['input_ids']",
   "id": "85db0a10dcf755e0",
   "outputs": [
    {
     "data": {
      "text/plain": [
       "tensor([[47353, 54288, 36192, 43857, 20810, 30689, 31306, 34058, 14491,  9650,\n",
       "          1333, 37857, 26614, 61938,  1591, 54003, 43216, 54909, 21049, 44563,\n",
       "         16607, 17140,  3177, 24400,  5730, 27831, 21700,  6295, 18840, 50106,\n",
       "         14675, 45855, 54811, 32904, 64329, 32670, 18206, 56474, 43941, 46656,\n",
       "         25305, 27512, 53256, 31823, 64133,  5141, 59985, 36296, 30741, 36640,\n",
       "         63691, 19854, 47751, 20042, 31298,  5930,  9753, 44224, 56166, 57850,\n",
       "         44399, 17058,  6445, 28682, 28791, 50743, 54290, 47336, 55363, 59050,\n",
       "         58290, 22227, 44058, 51282, 43933, 58351, 61611, 39013, 62075, 38446,\n",
       "         61112, 34468, 23688, 64156, 42375, 37769, 34438,  2790, 40045, 40955,\n",
       "         59963, 45809,  4656, 12941, 23118, 17090, 10082, 60366, 18226, 21356,\n",
       "         13755,  2675, 11013,   188, 43700, 45348,  5254, 54328, 38646, 22170,\n",
       "         10357, 19150, 65058, 61270,  2014, 36099, 18260, 37307, 21720, 33743,\n",
       "         54530, 63962, 60517,  1198, 10622, 51142, 30118, 15825]])"
      ]
     },
     "execution_count": 37,
     "metadata": {},
     "output_type": "execute_result"
    }
   ],
   "execution_count": 37
  },
  {
   "metadata": {
    "ExecuteTime": {
     "end_time": "2025-05-24T19:03:06.872912Z",
     "start_time": "2025-05-24T19:03:06.869297Z"
    }
   },
   "cell_type": "code",
   "source": "oo",
   "id": "4b1704e771f36e56",
   "outputs": [
    {
     "data": {
      "text/plain": [
       "tensor([[48681, 46579, 48681, 57617, 57617, 59367, 28089, 43328, 31356, 14995,\n",
       "           181, 14284, 44056, 60252, 44056, 47952, 38040, 57218, 15311, 24053,\n",
       "         34367, 57617, 63536,  7356, 56253, 48681, 57617,  7356, 57617, 48810,\n",
       "         57617, 20306, 15311,   181, 38040, 37183, 34571, 55423, 38040,  7356,\n",
       "         48681, 31356, 48681,   181, 31356,  9303, 56468, 38040, 56468, 34135,\n",
       "         48681, 31356, 64318, 35635, 57617, 56468, 56253, 51402, 24053, 26894,\n",
       "         57218, 38040, 31356, 56468, 48681, 56253, 56253, 56253, 37183, 59367,\n",
       "         47902, 56253, 16194,  7715,  7356, 32968, 37183, 57617, 38040, 57617,\n",
       "          2861, 37183, 51402, 57617, 42179, 31356, 43474, 16194,  3609, 24053,\n",
       "         28089,  7356, 28089,   181, 43331, 59367, 57617, 59367, 38040,   181,\n",
       "         34206, 38965, 38040, 28089, 23117,  7356,  7356, 51402, 28089,  1465,\n",
       "         15311, 48810, 65014, 51402, 57617, 28089, 31356, 59367, 57218, 59367,\n",
       "         57617, 15311, 57218, 31356,   181,  7356, 57218, 56468]])"
      ]
     },
     "execution_count": 38,
     "metadata": {},
     "output_type": "execute_result"
    }
   ],
   "execution_count": 38
  },
  {
   "metadata": {},
   "cell_type": "code",
   "outputs": [],
   "execution_count": null,
   "source": "",
   "id": "bf919c141e333aa7"
  }
 ],
 "metadata": {
  "kernelspec": {
   "display_name": "Python 3",
   "language": "python",
   "name": "python3"
  },
  "language_info": {
   "codemirror_mode": {
    "name": "ipython",
    "version": 2
   },
   "file_extension": ".py",
   "mimetype": "text/x-python",
   "name": "python",
   "nbconvert_exporter": "python",
   "pygments_lexer": "ipython2",
   "version": "2.7.6"
  }
 },
 "nbformat": 4,
 "nbformat_minor": 5
}
