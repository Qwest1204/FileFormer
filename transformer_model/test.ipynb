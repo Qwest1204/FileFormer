{
 "cells": [
  {
   "cell_type": "code",
   "id": "initial_id",
   "metadata": {
    "collapsed": true,
    "ExecuteTime": {
     "end_time": "2025-05-19T12:59:10.282855Z",
     "start_time": "2025-05-19T12:59:08.260795Z"
    }
   },
   "source": [
    "from sympy.printing.pytorch import torch\n",
    "from torch.nn.functional import dropout\n",
    "\n",
    "from model import *\n",
    "from tokenizer import *"
   ],
   "outputs": [],
   "execution_count": 1
  },
  {
   "metadata": {
    "ExecuteTime": {
     "end_time": "2025-05-19T12:59:10.301410Z",
     "start_time": "2025-05-19T12:59:10.286301Z"
    }
   },
   "cell_type": "code",
   "source": "tokenizer = Tokenizer()",
   "id": "bbe5406d62f7f0ba",
   "outputs": [],
   "execution_count": 2
  },
  {
   "metadata": {
    "ExecuteTime": {
     "end_time": "2025-05-19T12:59:10.472782Z",
     "start_time": "2025-05-19T12:59:10.414058Z"
    }
   },
   "cell_type": "code",
   "source": [
    "src_emb = InputEmbeddings(64, 65536)\n",
    "src_pos = PositionalEncoding(64, 1000, 0.1)"
   ],
   "id": "c70d50fc771c1182",
   "outputs": [],
   "execution_count": 3
  },
  {
   "metadata": {
    "ExecuteTime": {
     "end_time": "2025-05-19T12:59:10.625571Z",
     "start_time": "2025-05-19T12:59:10.478036Z"
    }
   },
   "cell_type": "code",
   "source": "tokens = tokenizer.encode(\"/Users/daniilogorodnikov/Documents/1706.03762v7.pdf\")",
   "id": "e18aff3d3a24bbe8",
   "outputs": [],
   "execution_count": 4
  },
  {
   "metadata": {
    "ExecuteTime": {
     "end_time": "2025-05-19T12:59:10.636537Z",
     "start_time": "2025-05-19T12:59:10.632201Z"
    }
   },
   "cell_type": "code",
   "source": "emb = src_emb(torch.tensor(tokens[:1000]))",
   "id": "84f0264a5b08b10b",
   "outputs": [],
   "execution_count": 5
  },
  {
   "metadata": {
    "ExecuteTime": {
     "end_time": "2025-05-19T13:00:53.077478Z",
     "start_time": "2025-05-19T13:00:53.074258Z"
    }
   },
   "cell_type": "code",
   "source": "src = src_pos(emb.unsqueeze(0))",
   "id": "b6081cd824fcb31f",
   "outputs": [],
   "execution_count": 27
  },
  {
   "metadata": {
    "ExecuteTime": {
     "end_time": "2025-05-19T13:00:53.277451Z",
     "start_time": "2025-05-19T13:00:53.275097Z"
    }
   },
   "cell_type": "code",
   "source": [
    "N = 6\n",
    "d_model = 64\n",
    "h = 8\n",
    "dropout = 0.1\n",
    "d_ff = 256"
   ],
   "id": "206a8c6e8aa51884",
   "outputs": [],
   "execution_count": 28
  },
  {
   "metadata": {
    "ExecuteTime": {
     "end_time": "2025-05-19T13:00:53.589538Z",
     "start_time": "2025-05-19T13:00:53.580474Z"
    }
   },
   "cell_type": "code",
   "source": [
    "encoder_blocks = []\n",
    "for _ in range(N):\n",
    "    encoder_self_attention_block = MultiHeadAttentionBlock(d_model, h, dropout)\n",
    "    feed_forward_block = FeedForwardBlock(d_model, d_ff, dropout)\n",
    "    encoder_block = EncoderBlock(d_model, encoder_self_attention_block, feed_forward_block, dropout)\n",
    "    encoder_blocks.append(encoder_block)"
   ],
   "id": "dccc39a4115cf424",
   "outputs": [],
   "execution_count": 29
  },
  {
   "metadata": {
    "ExecuteTime": {
     "end_time": "2025-05-19T13:00:53.725462Z",
     "start_time": "2025-05-19T13:00:53.722813Z"
    }
   },
   "cell_type": "code",
   "source": "encoder = Encoder(d_model, nn.ModuleList(encoder_blocks))",
   "id": "8a8167e3dcdf4a31",
   "outputs": [],
   "execution_count": 30
  },
  {
   "metadata": {
    "ExecuteTime": {
     "end_time": "2025-05-19T13:08:24.903834Z",
     "start_time": "2025-05-19T13:08:24.898510Z"
    }
   },
   "cell_type": "code",
   "source": "mask = torch.triu(torch.ones((1, 1000, 1000)), diagonal=1).type(torch.int)",
   "id": "3ae8895e3475ba06",
   "outputs": [],
   "execution_count": 35
  },
  {
   "metadata": {
    "ExecuteTime": {
     "end_time": "2025-05-19T13:08:25.259626Z",
     "start_time": "2025-05-19T13:08:25.257163Z"
    }
   },
   "cell_type": "code",
   "source": "src.shape",
   "id": "15ad1fe57933870f",
   "outputs": [
    {
     "data": {
      "text/plain": [
       "torch.Size([1, 1000, 64])"
      ]
     },
     "execution_count": 36,
     "metadata": {},
     "output_type": "execute_result"
    }
   ],
   "execution_count": 36
  },
  {
   "metadata": {
    "ExecuteTime": {
     "end_time": "2025-05-19T13:08:42.130080Z",
     "start_time": "2025-05-19T13:08:41.793294Z"
    }
   },
   "cell_type": "code",
   "source": "encoder(src, mask).shape",
   "id": "8ed1a8613ffd811b",
   "outputs": [
    {
     "data": {
      "text/plain": [
       "torch.Size([1, 1000, 64])"
      ]
     },
     "execution_count": 40,
     "metadata": {},
     "output_type": "execute_result"
    }
   ],
   "execution_count": 40
  },
  {
   "metadata": {},
   "cell_type": "code",
   "outputs": [],
   "execution_count": null,
   "source": "",
   "id": "d3e63f933ecf9d8f"
  }
 ],
 "metadata": {
  "kernelspec": {
   "display_name": "Python 3",
   "language": "python",
   "name": "python3"
  },
  "language_info": {
   "codemirror_mode": {
    "name": "ipython",
    "version": 2
   },
   "file_extension": ".py",
   "mimetype": "text/x-python",
   "name": "python",
   "nbconvert_exporter": "python",
   "pygments_lexer": "ipython2",
   "version": "2.7.6"
  }
 },
 "nbformat": 4,
 "nbformat_minor": 5
}
