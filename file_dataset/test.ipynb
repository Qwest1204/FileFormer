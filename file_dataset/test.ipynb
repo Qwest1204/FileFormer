{
 "cells": [
  {
   "metadata": {
    "ExecuteTime": {
     "end_time": "2025-05-17T19:14:18.972444Z",
     "start_time": "2025-05-17T19:14:18.968966Z"
    }
   },
   "cell_type": "code",
   "source": [
    "from pathlib import Path\n",
    "import polars as pl"
   ],
   "id": "25486770ac5b3f01",
   "outputs": [],
   "execution_count": 61
  },
  {
   "metadata": {
    "ExecuteTime": {
     "end_time": "2025-05-17T19:14:19.956293Z",
     "start_time": "2025-05-17T19:14:19.953468Z"
    }
   },
   "cell_type": "code",
   "source": "tmp_list_of_cluster = []",
   "id": "5228c6219e4391e8",
   "outputs": [],
   "execution_count": 62
  },
  {
   "metadata": {
    "ExecuteTime": {
     "end_time": "2025-05-17T19:14:20.372756Z",
     "start_time": "2025-05-17T19:14:20.367361Z"
    }
   },
   "cell_type": "code",
   "source": [
    "p = Path(r'path-to-files').glob('**/*')\n",
    "files = [x for x in p if x.is_file()]"
   ],
   "id": "3986a60ce17bb45f",
   "outputs": [],
   "execution_count": 63
  },
  {
   "metadata": {
    "ExecuteTime": {
     "end_time": "2025-05-17T19:18:56.123949Z",
     "start_time": "2025-05-17T19:18:10.415968Z"
    }
   },
   "cell_type": "code",
   "source": [
    "for k in range(len(files)):\n",
    "    with open(files[k], 'r', encoding='latin-1') as f:\n",
    "        hex_list = [\"{:02x}\".format(ord(c)) for c in f.read()]\n",
    "    for i in range(int(len(hex_list) / 64)):\n",
    "        tmp = []\n",
    "        for j in range(64):\n",
    "            tmp.append(hex_list[j*(1+i)])\n",
    "        tmp_list_of_cluster.append(tmp)\n"
   ],
   "id": "e3ad00cc9d8769b9",
   "outputs": [],
   "execution_count": 73
  },
  {
   "metadata": {
    "ExecuteTime": {
     "end_time": "2025-05-17T19:20:13.148548Z",
     "start_time": "2025-05-17T19:20:13.143043Z"
    }
   },
   "cell_type": "code",
   "source": "data = {'cluster': tmp_list_of_cluster}",
   "id": "8bb6a9805d519e2",
   "outputs": [],
   "execution_count": 74
  },
  {
   "metadata": {
    "ExecuteTime": {
     "end_time": "2025-05-17T19:23:58.601324Z",
     "start_time": "2025-05-17T19:23:39.172502Z"
    }
   },
   "cell_type": "code",
   "source": "df = pl.DataFrame(data)",
   "id": "63ac8d5c3742564",
   "outputs": [],
   "execution_count": 79
  },
  {
   "metadata": {
    "ExecuteTime": {
     "end_time": "2025-05-17T19:30:03.201502Z",
     "start_time": "2025-05-17T19:29:58.112588Z"
    }
   },
   "cell_type": "code",
   "source": "df.write_parquet(\"path-to-data.parquet\")",
   "id": "664c5eaea1622d27",
   "outputs": [],
   "execution_count": 81
  },
  {
   "metadata": {},
   "cell_type": "code",
   "outputs": [],
   "execution_count": null,
   "source": "",
   "id": "373e6ca0b9797346"
  }
 ],
 "metadata": {
  "kernelspec": {
   "display_name": "Python 3",
   "language": "python",
   "name": "python3"
  },
  "language_info": {
   "codemirror_mode": {
    "name": "ipython",
    "version": 2
   },
   "file_extension": ".py",
   "mimetype": "text/x-python",
   "name": "python",
   "nbconvert_exporter": "python",
   "pygments_lexer": "ipython2",
   "version": "2.7.6"
  }
 },
 "nbformat": 4,
 "nbformat_minor": 5
}
